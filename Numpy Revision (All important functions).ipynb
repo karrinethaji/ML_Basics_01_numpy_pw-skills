{
 "cells": [
  {
   "cell_type": "code",
   "execution_count": 1,
   "id": "0d48bdeb",
   "metadata": {},
   "outputs": [],
   "source": [
    "# importing numpy package\n",
    "import numpy as np"
   ]
  },
  {
   "cell_type": "code",
   "execution_count": 2,
   "id": "b9586694",
   "metadata": {},
   "outputs": [
    {
     "name": "stdout",
     "output_type": "stream",
     "text": [
      "Element: 1  data type: <class 'numpy.str_'>\n",
      "Element: string  data type: <class 'numpy.str_'>\n",
      "Element: 5.6  data type: <class 'numpy.str_'>\n",
      "Element: True  data type: <class 'numpy.str_'>\n",
      "Element: (5+3j)  data type: <class 'numpy.str_'>\n",
      "Element: (1+0j)  data type: <class 'numpy.complex128'>\n",
      "Element: (5.6+0j)  data type: <class 'numpy.complex128'>\n",
      "Element: (1+0j)  data type: <class 'numpy.complex128'>\n",
      "Element: (5+3j)  data type: <class 'numpy.complex128'>\n"
     ]
    }
   ],
   "source": [
    "# Ultra basic\n",
    "\n",
    "# As we know, array is the collection of homogenous datatype elements\n",
    "\n",
    "arr=np.array([1,\"string\",5.6,True,5+3j]) # But here we defined every datatype in the array\n",
    "\n",
    "# But we know array is collection of same data type element right but here we defined diff diff data type elements.\n",
    "\n",
    "# Let's try to print the datatype of every element\n",
    "\n",
    "for i in range(len(arr)):\n",
    "    print(\"Element:\",arr[i],\" data type:\",type(arr[i]))\n",
    "    \n",
    "# Element: 1  data type: <class 'numpy.str_'>\n",
    "# Element: string  data type: <class 'numpy.str_'>\n",
    "# Element: 5.6  data type: <class 'numpy.str_'>\n",
    "# Element: True  data type: <class 'numpy.str_'>\n",
    "# Element: (5+3j)  data type: <class 'numpy.str_'>\n",
    "\n",
    "# As you can observe every element datatype is changed to string.Hence it is satisfied the array definition right (collection of homogenous element)\n",
    "\n",
    "# OBSERVATION:\n",
    "\n",
    "# Numpy chnages the datatype of all elements to the lowest common denominator. If there is string, all other element data type \n",
    "# will become string datatype.\n",
    "\n",
    "arr=np.array([1,5.6,True,5+3j]) # string data deleted, then all elements datatype converted to \"complex\"\n",
    "\n",
    "for i in range(len(arr)):\n",
    "    print(\"Element:\",arr[i],\" data type:\",type(arr[i]))\n",
    "    \n",
    "# Element: (1+0j)  data type: <class 'numpy.complex128'>\n",
    "# Element: (5.6+0j)  data type: <class 'numpy.complex128'>\n",
    "# Element: (1+0j)  data type: <class 'numpy.complex128'> # boolean data (True) converted to (1+j0)\n",
    "# Element: (5+3j)  data type: <class 'numpy.complex128'>\n",
    "\n",
    "\n",
    "\n",
    "# String  ---> Complex --> float --> int --> bool\n",
    "\n",
    "# Lowest denominator -----------------------> highest denominator"
   ]
  },
  {
   "cell_type": "code",
   "execution_count": 3,
   "id": "98755ba9",
   "metadata": {},
   "outputs": [
    {
     "name": "stdout",
     "output_type": "stream",
     "text": [
      "[1 2 3 4 5]\n",
      "[0 1 2 3 4 5 6 7 8 9]\n",
      "Dimension of arr: 1\n",
      "Shape of arr: (5,)\n"
     ]
    }
   ],
   "source": [
    "# creating 1D array \n",
    "\n",
    "arr= np.array([1,2,3,4,5])\n",
    "\n",
    "# or\n",
    "\n",
    "# using arange function\n",
    "\n",
    "arr1= np.arange(0,10)\n",
    "\n",
    "print(arr)\n",
    "\n",
    "print(arr1)\n",
    "\n",
    "# Dimension of array\n",
    "\n",
    "print(\"Dimension of arr:\",arr.ndim)\n",
    "\n",
    "# shape of array\n",
    "\n",
    "print(\"Shape of arr:\",arr.shape) # as it is 1D array it does't have columns"
   ]
  },
  {
   "cell_type": "code",
   "execution_count": 4,
   "id": "66187177",
   "metadata": {},
   "outputs": [
    {
     "name": "stdout",
     "output_type": "stream",
     "text": [
      "[[0 1 2 3 4]\n",
      " [5 6 7 8 9]]\n",
      "[[0 1 2 3 4]\n",
      " [5 6 7 8 9]]\n"
     ]
    }
   ],
   "source": [
    "# Reshaping the array\n",
    "\n",
    "print( np.arange(0,10).reshape(2,5))\n",
    "\n",
    "# or\n",
    "\n",
    "print( np.arange(0,10).reshape(2,-1))"
   ]
  },
  {
   "cell_type": "code",
   "execution_count": 5,
   "id": "d04ceb6d",
   "metadata": {},
   "outputs": [
    {
     "name": "stdout",
     "output_type": "stream",
     "text": [
      "[[11 12 13 14]\n",
      " [15 16 17 18]]\n",
      "Dimension of arr: 2\n",
      "Shape of arr: (2, 4)\n"
     ]
    }
   ],
   "source": [
    "# 2D array creation\n",
    "\n",
    "arr_2= np.array([[11,12,13,14],[15,16,17,18]])\n",
    "\n",
    "print(arr_2)\n",
    "\n",
    "\n",
    "# Dimension of array\n",
    "\n",
    "print(\"Dimension of arr:\",arr_2.ndim)\n",
    "\n",
    "# shape of array\n",
    "\n",
    "print(\"Shape of arr:\",arr_2.shape) # as it is 2D array it have columns and rows"
   ]
  },
  {
   "cell_type": "code",
   "execution_count": 6,
   "id": "659c481c",
   "metadata": {},
   "outputs": [],
   "source": [
    "# indexing\n",
    "\n",
    "arr= np.random.randint(1,10,(4,4))"
   ]
  },
  {
   "cell_type": "code",
   "execution_count": 7,
   "id": "1ecc1c3a",
   "metadata": {},
   "outputs": [
    {
     "name": "stdout",
     "output_type": "stream",
     "text": [
      "[[7 6 5 4]\n",
      " [1 1 5 8]\n",
      " [5 2 5 1]\n",
      " [3 5 6 4]]\n"
     ]
    }
   ],
   "source": [
    "print(arr)"
   ]
  },
  {
   "cell_type": "code",
   "execution_count": 8,
   "id": "0f33e2d7",
   "metadata": {},
   "outputs": [
    {
     "name": "stdout",
     "output_type": "stream",
     "text": [
      "[[7 6]\n",
      " [1 1]]\n"
     ]
    }
   ],
   "source": [
    "print(arr[0:2,0:2])# it will fetch the row 0,1 and column 0,1 (2 is excluded)"
   ]
  },
  {
   "cell_type": "code",
   "execution_count": 9,
   "id": "74a1392d",
   "metadata": {},
   "outputs": [
    {
     "name": "stdout",
     "output_type": "stream",
     "text": [
      "[[7 6]\n",
      " [5 2]]\n"
     ]
    }
   ],
   "source": [
    "print(arr[0:4:2,0:2]) # 0:4:2 --> 2 represents the step size"
   ]
  },
  {
   "cell_type": "code",
   "execution_count": 10,
   "id": "ab907586",
   "metadata": {},
   "outputs": [
    {
     "name": "stdout",
     "output_type": "stream",
     "text": [
      "[[7 5]\n",
      " [1 5]\n",
      " [5 5]]\n"
     ]
    }
   ],
   "source": [
    "print(arr[0:3,0:4:2])"
   ]
  },
  {
   "cell_type": "code",
   "execution_count": 11,
   "id": "7e7a02dd",
   "metadata": {},
   "outputs": [
    {
     "name": "stdout",
     "output_type": "stream",
     "text": [
      "[0 1 2 3 4 5 6 7 8 9]\n",
      "[0 2 4 6 8]\n"
     ]
    }
   ],
   "source": [
    "#arange\n",
    "\n",
    "print(np.arange(0,10))\n",
    "\n",
    "print(np.arange(0,10,2)) # 2 represents step size"
   ]
  },
  {
   "cell_type": "code",
   "execution_count": 12,
   "id": "d7b54fb5",
   "metadata": {},
   "outputs": [
    {
     "name": "stdout",
     "output_type": "stream",
     "text": [
      "[ 0.          0.20408163  0.40816327  0.6122449   0.81632653  1.02040816\n",
      "  1.2244898   1.42857143  1.63265306  1.83673469  2.04081633  2.24489796\n",
      "  2.44897959  2.65306122  2.85714286  3.06122449  3.26530612  3.46938776\n",
      "  3.67346939  3.87755102  4.08163265  4.28571429  4.48979592  4.69387755\n",
      "  4.89795918  5.10204082  5.30612245  5.51020408  5.71428571  5.91836735\n",
      "  6.12244898  6.32653061  6.53061224  6.73469388  6.93877551  7.14285714\n",
      "  7.34693878  7.55102041  7.75510204  7.95918367  8.16326531  8.36734694\n",
      "  8.57142857  8.7755102   8.97959184  9.18367347  9.3877551   9.59183673\n",
      "  9.79591837 10.        ]\n",
      "[ 0.   2.5  5.   7.5 10. ]\n"
     ]
    }
   ],
   "source": [
    "#linspace\n",
    "\n",
    "print(np.linspace(0,10)) # by default the data from 0 to 10 will divided to 50 equal parts, if you want to divide into 5 equal parts then\n",
    "\n",
    "# [ 0.          0.20408163  0.40816327  0.6122449   0.81632653  1.02040816\n",
    "#   1.2244898   1.42857143  1.63265306  1.83673469  2.04081633  2.24489796\n",
    "#   2.44897959  2.65306122  2.85714286  3.06122449  3.26530612  3.46938776\n",
    "#   3.67346939  3.87755102  4.08163265  4.28571429  4.48979592  4.69387755\n",
    "#   4.89795918  5.10204082  5.30612245  5.51020408  5.71428571  5.91836735\n",
    "#   6.12244898  6.32653061  6.53061224  6.73469388  6.93877551  7.14285714\n",
    "#   7.34693878  7.55102041  7.75510204  7.95918367  8.16326531  8.36734694\n",
    "#   8.57142857  8.7755102   8.97959184  9.18367347  9.3877551   9.59183673\n",
    "#   9.79591837 10.        ]\n",
    "\n",
    "print(np.linspace(0,10,5)) # the data from 0 to 10 will be divide into 5 equal parts\n",
    "\n",
    "# [ 0.   2.5  5.   7.5 10. ]"
   ]
  },
  {
   "cell_type": "code",
   "execution_count": 13,
   "id": "2ba71971",
   "metadata": {},
   "outputs": [
    {
     "name": "stdout",
     "output_type": "stream",
     "text": [
      "arr:\n",
      " [11 22 33 44 55]\n",
      "[ 11  22 100 100 100]\n"
     ]
    }
   ],
   "source": [
    "# array manipulation\n",
    "\n",
    "arr=np.array([11,22,33,44,55])\n",
    "\n",
    "print(\"arr:\\n\",arr)\n",
    "\n",
    "arr[2::]=100\n",
    "\n",
    "print(arr) # changing the content in the array using indexing"
   ]
  },
  {
   "cell_type": "code",
   "execution_count": 14,
   "id": "5fbf8259",
   "metadata": {},
   "outputs": [
    {
     "name": "stdout",
     "output_type": "stream",
     "text": [
      "[1. 1. 1.]\n",
      "[[1. 1. 1.]\n",
      " [1. 1. 1.]\n",
      " [1. 1. 1.]]\n",
      "[[1 1 1]\n",
      " [1 1 1]\n",
      " [1 1 1]]\n"
     ]
    }
   ],
   "source": [
    "# ones\n",
    "\n",
    "# Return a new array of given shape and type, filled with ones.\n",
    "\n",
    "print(np.ones(3))\n",
    "\n",
    "# [1. 1. 1.]\n",
    "\n",
    "print(np.ones((3,3)))\n",
    "\n",
    "# [[1. 1. 1.]\n",
    "#  [1. 1. 1.]\n",
    "#  [1. 1. 1.]]\n",
    "\n",
    "print(np.ones((3,3),dtype=int))\n",
    "\n",
    "# [[1 1 1]\n",
    "#  [1 1 1]\n",
    "#  [1 1 1]]"
   ]
  },
  {
   "cell_type": "code",
   "execution_count": 15,
   "id": "0c21a7c3",
   "metadata": {},
   "outputs": [
    {
     "name": "stdout",
     "output_type": "stream",
     "text": [
      "[0. 0. 0. 0.]\n",
      "[[0. 0. 0. 0.]\n",
      " [0. 0. 0. 0.]\n",
      " [0. 0. 0. 0.]\n",
      " [0. 0. 0. 0.]]\n",
      "[[0 0 0 0]\n",
      " [0 0 0 0]\n",
      " [0 0 0 0]\n",
      " [0 0 0 0]]\n",
      "[[False False False False]\n",
      " [False False False False]\n",
      " [False False False False]\n",
      " [False False False False]]\n"
     ]
    }
   ],
   "source": [
    "# zeros\n",
    "\n",
    "# Return a new array of given shape and type, filled with zeros.\n",
    "\n",
    "print(np.zeros(4))\n",
    "\n",
    "# [0. 0. 0. 0.]\n",
    "\n",
    "print(np.zeros((4,4)))\n",
    "\n",
    "# [[0. 0. 0. 0.]\n",
    "#  [0. 0. 0. 0.]\n",
    "#  [0. 0. 0. 0.]\n",
    "#  [0. 0. 0. 0.]]\n",
    "\n",
    "print(np.zeros((4,4),dtype=int))\n",
    "\n",
    "# [[0 0 0 0]\n",
    "#  [0 0 0 0]\n",
    "#  [0 0 0 0]\n",
    "#  [0 0 0 0]]\n",
    "\n",
    "print(np.zeros((4,4),dtype=bool))\n",
    "\n",
    "# [[False False False False]\n",
    "#  [False False False False]\n",
    "#  [False False False False]\n",
    "#  [False False False False]]"
   ]
  },
  {
   "cell_type": "code",
   "execution_count": 16,
   "id": "5df149fd",
   "metadata": {},
   "outputs": [
    {
     "name": "stdout",
     "output_type": "stream",
     "text": [
      "[[0. 0. 0.]\n",
      " [0. 0. 0.]]\n",
      "[1.31491070e-311 3.16202013e-322 0.00000000e+000 0.00000000e+000\n",
      " 1.01855798e-312 5.19653801e+170 1.77103418e-051 1.36900908e-071\n",
      " 1.93376641e-076 7.11885357e-038 6.23884563e-042 5.75298863e-066\n",
      " 6.52306545e-038]\n"
     ]
    }
   ],
   "source": [
    "# empty \n",
    "\n",
    "# Return a new array of given shape and type, without initializing entries.\n",
    "\n",
    "print(np.empty((2,3)))\n",
    "\n",
    "print(np.empty(13))"
   ]
  },
  {
   "cell_type": "code",
   "execution_count": 17,
   "id": "f886dacf",
   "metadata": {},
   "outputs": [
    {
     "name": "stdout",
     "output_type": "stream",
     "text": [
      "[2 4 2 7]\n",
      "[[9 1 7 9]\n",
      " [6 6 4 4]\n",
      " [2 4 8 3]]\n"
     ]
    }
   ],
   "source": [
    "# random\n",
    "\n",
    "# most used rand function in data science\n",
    "\n",
    "print(np.random.randint(1,10,4)) # select 4 integers between 1 and 10\n",
    "\n",
    "print(np.random.randint(1,10,(3,4))) # construct 3x4 array with the integers between 1 and 10"
   ]
  },
  {
   "cell_type": "code",
   "execution_count": 18,
   "id": "580a96e6",
   "metadata": {},
   "outputs": [
    {
     "name": "stdout",
     "output_type": "stream",
     "text": [
      "[[ 1.16643803 -1.81948265  0.1153049  -0.27099331  1.28272171 -0.43575169\n",
      "  -0.2956361   0.87522568  0.48412926 -0.57437217]\n",
      " [-0.24397321 -0.81097844 -0.55015494  0.69203475 -0.19160143  0.43080048\n",
      "  -0.04039231  0.26840626  1.74593661 -0.19768717]]\n"
     ]
    }
   ],
   "source": [
    "# randn\n",
    "\n",
    "# Return a sample (or samples) from the \"standard normal\" distribution.\n",
    "\n",
    "# Highly used in data science statistics, as this is used to generate the sample data from standard normal distribution\n",
    "\n",
    "print(np.random.randn(2,10))"
   ]
  },
  {
   "cell_type": "code",
   "execution_count": 19,
   "id": "1dbf28ab",
   "metadata": {},
   "outputs": [
    {
     "name": "stdout",
     "output_type": "stream",
     "text": [
      "[ 1  2  4 12 15 18 34 89]\n"
     ]
    }
   ],
   "source": [
    "# Sorting\n",
    "\n",
    "arr= np.array([12,15,18,89,34,1,4,2])\n",
    "\n",
    "print(np.sort(arr))"
   ]
  },
  {
   "cell_type": "code",
   "execution_count": 20,
   "id": "36ff5b0a",
   "metadata": {},
   "outputs": [
    {
     "name": "stdout",
     "output_type": "stream",
     "text": [
      "[[ 11  34   2   1   6]\n",
      " [ 22   4   2  88  45]\n",
      " [230   4   1  67  89]]\n",
      "[[ 11   4   1   1   6]\n",
      " [ 22   4   2  67  45]\n",
      " [230  34   2  88  89]]\n",
      "[[  1   2   6  11  34]\n",
      " [  2   4  22  45  88]\n",
      " [  1   4  67  89 230]]\n"
     ]
    }
   ],
   "source": [
    "#sorting along the axes\n",
    "\n",
    "arr= np.array([[11,34,2,1,6],[22,4,2,88,45],[230,4,1,67,89]])\n",
    "\n",
    "print(arr)\n",
    "\n",
    "# [[ 11  34   2   1   6]\n",
    "#  [ 22   4   2  88  45]\n",
    "#  [230   4   1  67  89]]\n",
    "\n",
    "print(np.sort(arr,axis=0)) # axis=0--> first element, 2nd element, 3rd element of evey row will be considered and sorted\n",
    "\n",
    "# [[ 11   4   1   1   6]\n",
    "#  [ 22   4   2  67  45]\n",
    "#  [230  34   2  88  89]]\n",
    "\n",
    "print(np.sort(arr,axis=1)) # axis=1-->  first element, 2nd element, 3rd element of evey column will be considered and sorted\n",
    "\n",
    "# [[  1   2   6  11  34]\n",
    "#  [  2   4  22  45  88]\n",
    "#  [  1   4  67  89 230]]"
   ]
  },
  {
   "cell_type": "code",
   "execution_count": 21,
   "id": "953b1808",
   "metadata": {},
   "outputs": [
    {
     "name": "stdout",
     "output_type": "stream",
     "text": [
      "[1 2 3 4 5 6 7 8]\n",
      "[1. 2. 3. 4. 5. 6. 7. 8.]\n",
      "[[11 22 33 44]\n",
      " [55 66 77 88]]\n",
      "[[11 22 55]\n",
      " [33 44 66]]\n"
     ]
    }
   ],
   "source": [
    "# Concatenate\n",
    "\n",
    "a= np.array([1,2,3,4])\n",
    "b=np.array([5,6,7,8])\n",
    "\n",
    "print(np.concatenate((a,b)))\n",
    "\n",
    "# [1 2 3 4 5 6 7 8]\n",
    "\n",
    "print(np.concatenate((a,b),dtype=float))\n",
    "\n",
    "# [1. 2. 3. 4. 5. 6. 7. 8.]\n",
    "\n",
    "# 2D arrays\n",
    "\n",
    "arr1= np.array([[11,22,33,44]])\n",
    "arr2= np.array([[55,66,77,88]])\n",
    "\n",
    "print(np.concatenate((arr1,arr2),axis=0)) # axis=0 means concatenate row wise i,e to concatenate the arrays row wise, the count of columns must match\n",
    "\n",
    "# [[11 22 33 44]\n",
    "#  [55 66 77 88]]\n",
    "\n",
    "arr1= np.array([[11,22],[33,44]])\n",
    "arr2= np.array([[55],[66]])\n",
    "\n",
    "print(np.concatenate((arr1,arr2),axis=1))  # axis=1 means concatenate column wise i,e to concatenate the arrays columns wise, the count of rows must match\n",
    "\n",
    "# [[11 22 55]\n",
    "#  [33 44 66]]"
   ]
  },
  {
   "cell_type": "code",
   "execution_count": 22,
   "id": "8b79818d",
   "metadata": {},
   "outputs": [
    {
     "name": "stdout",
     "output_type": "stream",
     "text": [
      "[[11 12]\n",
      " [13 14]\n",
      " [15 16]]\n"
     ]
    }
   ],
   "source": [
    "# Concatenate\n",
    "\n",
    "a=np.array([[11,12],[13,14]])\n",
    "b=np.array([[15,16]])\n",
    "\n",
    "print(np.concatenate((a,b),axis=0)) # Here axis=0 i,e the array will be concatenate by rows so column count must match.\n"
   ]
  },
  {
   "cell_type": "code",
   "execution_count": 23,
   "id": "f2b69190",
   "metadata": {},
   "outputs": [
    {
     "name": "stdout",
     "output_type": "stream",
     "text": [
      "[ 0  1  2  3  4  5  6  7  8  9 10 11 12 13 14 15 16 17 18 19]\n",
      "[False False False False False False False False False  True  True  True\n",
      "  True  True  True  True  True  True  True  True]\n",
      "[ 9 10 11 12 13 14 15 16 17 18 19]\n"
     ]
    }
   ],
   "source": [
    "# Filter\n",
    "\n",
    "arr=np.arange(0,20)\n",
    "\n",
    "print(arr)\n",
    "\n",
    "# [ 0  1  2  3  4  5  6  7  8  9 10 11 12 13 14 15 16 17 18 19]\n",
    "\n",
    "print(arr>8)\n",
    "\n",
    "# [False False False False False False False False False  True  True  True\n",
    "#   True  True  True  True  True  True  True  True]\n",
    "\n",
    "print(arr[arr>8]) # filtering based on the condition\n",
    "\n",
    "# [ 9 10 11 12 13 14 15 16 17 18 19]"
   ]
  },
  {
   "cell_type": "code",
   "execution_count": 24,
   "id": "6dcd11be",
   "metadata": {},
   "outputs": [
    {
     "name": "stdout",
     "output_type": "stream",
     "text": [
      "[ 0  1  2  3  4  5  6  7  8  9 10 11 12 13 14 15 16 17 18 19]\n",
      "[ 9 10 11 12 13 14 15 16 17 18 19]\n"
     ]
    }
   ],
   "source": [
    "# extract\n",
    "\n",
    "# Return the elements of an array that satisfy some condition.( It is also works same as the filter)\n",
    "\n",
    "arr=np.arange(0,20)\n",
    "\n",
    "print(arr)\n",
    "\n",
    "# [ 0  1  2  3  4  5  6  7  8  9 10 11 12 13 14 15 16 17 18 19]\n",
    "\n",
    "print(np.extract(arr>8,arr)) # It will extract the data directly  without providing the bool values\n",
    "\n",
    "# [ 9 10 11 12 13 14 15 16 17 18 19]"
   ]
  },
  {
   "cell_type": "code",
   "execution_count": 25,
   "id": "6d1c6c13",
   "metadata": {},
   "outputs": [
    {
     "name": "stdout",
     "output_type": "stream",
     "text": [
      "7\n",
      "[[11 12  0 14]\n",
      " [ 0 16  0 18]\n",
      " [19 20  0 22]\n",
      " [23  0 25 26]]\n",
      "11\n"
     ]
    }
   ],
   "source": [
    "# count_nonzero\n",
    "\n",
    "arr= np.array([11,12,13,0,5,443,0,34,0,0,234])\n",
    "\n",
    "print(np.count_nonzero(arr)) # It will provide the count of non-zero elements\n",
    "\n",
    "# 7\n",
    "\n",
    "arr1= np.array([[11,12,0,14],[0,16,0,18],[19,20,0,22],[23,0,25,26]])\n",
    "\n",
    "print(arr1)\n",
    "\n",
    "# [[11 12  0 14]\n",
    "#  [ 0 16  0 18]\n",
    "#  [19 20  0 22]\n",
    "#  [23  0 25 26]]\n",
    "\n",
    "print(np.count_nonzero(arr1))\n",
    "\n",
    "#11"
   ]
  },
  {
   "cell_type": "code",
   "execution_count": 26,
   "id": "e8b08155",
   "metadata": {},
   "outputs": [
    {
     "name": "stdout",
     "output_type": "stream",
     "text": [
      "(array([ 0,  1,  2,  4,  5,  7, 10], dtype=int64),)\n",
      "[[11 12  0 14]\n",
      " [ 0 16  0 18]\n",
      " [19 20  0 22]\n",
      " [23  0 25 26]]\n",
      "(array([0, 0, 0, 1, 1, 2, 2, 2, 3, 3, 3], dtype=int64), array([0, 1, 3, 1, 3, 0, 1, 3, 0, 2, 3], dtype=int64))\n"
     ]
    }
   ],
   "source": [
    "# nonzero\n",
    "\n",
    "# Return the indices of the elements that are non-zero.\n",
    "\n",
    "arr= np.array([11,12,13,0,5,443,0,34,0,0,234])\n",
    "\n",
    "print(np.nonzero(arr)) # Return the indices of the elements that are non-zero.\n",
    "\n",
    "# (array([ 0,  1,  2,  4,  5,  7, 10], dtype=int64),) -->3rd,6th,8th,9th index is 0 so it is not shown in the output array\n",
    "\n",
    "arr1= np.array([[11,12,0,14],[0,16,0,18],[19,20,0,22],[23,0,25,26]])\n",
    "\n",
    "print(arr1)\n",
    "\n",
    "# [[11 12  0 14]\n",
    "#  [ 0 16  0 18]\n",
    "#  [19 20  0 22]\n",
    "#  [23  0 25 26]]\n",
    "\n",
    "print(np.nonzero(arr1)) # it will provide the row and column indices\n",
    "\n",
    "# (array([0, 0, 0, 1, 1, 2, 2, 2, 3, 3, 3], dtype=int64), array([0, 1, 3, 1, 3, 0, 1, 3, 0, 2, 3], dtype=int64))"
   ]
  },
  {
   "cell_type": "code",
   "execution_count": 27,
   "id": "0ee56ec9",
   "metadata": {
    "scrolled": true
   },
   "outputs": [
    {
     "name": "stdout",
     "output_type": "stream",
     "text": [
      "[[ 1  2  3  4]\n",
      " [11 12 13 14]]\n",
      "[[ 1  2  3  4]\n",
      " [11 12 13 14]]\n",
      "[[11 12]\n",
      " [13 14]\n",
      " [15 16]]\n"
     ]
    }
   ],
   "source": [
    "# vstack\n",
    "\n",
    "# Stack arrays in sequence vertically (row wise).\n",
    "\n",
    "arr1= np.array([1,2,3,4])\n",
    "arr2= np.array([11,12,13,14])\n",
    "\n",
    "print(np.vstack((arr1,arr2)))\n",
    "\n",
    "# [[ 1  2  3  4]\n",
    "#  [11 12 13 14]]\n",
    "\n",
    "arr1= np.array([[1,2,3,4]])\n",
    "arr2= np.array([[11,12,13,14]])\n",
    "\n",
    "print(np.vstack((arr1,arr2)))\n",
    "\n",
    "# [[ 1  2  3  4]\n",
    "#  [11 12 13 14]]\n",
    "\n",
    "arr1= np.array([[11,12],[13,14]])\n",
    "arr2= np.array([[15,16]])\n",
    "\n",
    "print(np.vstack((arr1,arr2))) # here we stacking the content so count of column of arr2 should match with arr1\n",
    "\n",
    "# [[11 12]\n",
    "#  [13 14]\n",
    "#  [15 16]]"
   ]
  },
  {
   "cell_type": "code",
   "execution_count": 28,
   "id": "5cb5e9ef",
   "metadata": {},
   "outputs": [
    {
     "name": "stdout",
     "output_type": "stream",
     "text": [
      "[ 1  2  3  4 11 12 13 14]\n",
      "[[11 12 15 16]\n",
      " [13 14 17 18]]\n"
     ]
    }
   ],
   "source": [
    "#hstack\n",
    "\n",
    "# Stack arrays in sequence horizontally (column wise).\n",
    "\n",
    "\n",
    "arr1= np.array([1,2,3,4])\n",
    "arr2= np.array([11,12,13,14])\n",
    "\n",
    "print(np.hstack((arr1,arr2)))\n",
    "\n",
    "# [ 1  2  3  4 11 12 13 14]\n",
    "\n",
    "arr1= np.array([[11,12],[13,14]])\n",
    "arr2= np.array([[15,16],[17,18]])\n",
    "\n",
    "print(np.hstack((arr1,arr2))) # as we are stacking the arrays column wise, the no. of rows of arr1 and arr2 shpuld match else we will get error"
   ]
  },
  {
   "cell_type": "code",
   "execution_count": 29,
   "id": "8f1cb7c0",
   "metadata": {},
   "outputs": [
    {
     "name": "stdout",
     "output_type": "stream",
     "text": [
      "50\n",
      "[[ 1  2  3  4]\n",
      " [10 12 11  1]\n",
      " [ 1  3  2  1]]\n",
      "[12 17 16  6]\n",
      "[10 34  7]\n"
     ]
    }
   ],
   "source": [
    "# sum\n",
    "\n",
    "arr=np.array([11,12,13,14])\n",
    "\n",
    "print(np.sum(arr))\n",
    "\n",
    "# or\n",
    "\n",
    "# print(arr.sum())\n",
    "\n",
    "# for 2D arrays\n",
    "\n",
    "arr= np.array([[1,2,3,4],[10,12,11,1],[1,3,2,1]])\n",
    "\n",
    "print(arr)\n",
    "\n",
    "# [[ 1  2  3  4]\n",
    "#  [10 12 11  1]\n",
    "#  [ 1  3  2  1]]\n",
    "\n",
    "print(np.sum(arr,axis=0)) #axis=0 means row wise addition will performed like( 1st element from every row will added, 2nd element.....)\n",
    "\n",
    "# arr.sum(axis=0) \n",
    "\n",
    "# [12 17 16  6]\n",
    "\n",
    "print(np.sum(arr,axis=1)) #axis=1 means column wise addition will performed like( 1st element from every column will added, 2nd element.....)\n",
    "\n",
    "# arr.sum(axis=1) \n",
    "\n",
    "# [10 34  7]"
   ]
  },
  {
   "cell_type": "code",
   "execution_count": 30,
   "id": "60dac957",
   "metadata": {},
   "outputs": [
    {
     "name": "stdout",
     "output_type": "stream",
     "text": [
      "889\n",
      "[[12 33 45]\n",
      " [10 54 90]\n",
      " [ 2 89 38]]\n",
      "90\n",
      "[12 89 90]\n",
      "[45 90 89]\n"
     ]
    }
   ],
   "source": [
    "# finding max element of array\n",
    "\n",
    "arr1=np.array([1,2,5,22,33,44,2,1,3,889,33,23,4])\n",
    "\n",
    "# print(arr1.max())\n",
    "#889\n",
    "\n",
    "#or\n",
    "\n",
    "print(np.max(arr1))\n",
    "\n",
    "#889\n",
    "\n",
    "arr=np.array([[12,33,45],[10,54,90],[2,89,38]])\n",
    "\n",
    "print(arr)\n",
    "\n",
    "# [[12 33 45]\n",
    "#  [10 54 90]\n",
    "#  [ 2 89 38]]\n",
    "\n",
    "print(np.max(arr)) # or arr.max()\n",
    "\n",
    "#90\n",
    "\n",
    "print(np.max(arr,axis=0)) # or arr.max(axis=0)\n",
    "\n",
    "# [12 89 90]\n",
    "\n",
    "print(np.max(arr,axis=1)) # or arr.max(axis=1)\n",
    "\n",
    "# [45 90 89]"
   ]
  },
  {
   "cell_type": "code",
   "execution_count": 31,
   "id": "85ec4949",
   "metadata": {},
   "outputs": [
    {
     "name": "stdout",
     "output_type": "stream",
     "text": [
      "1\n",
      "[[12 33 45]\n",
      " [10 54 90]\n",
      " [ 2 89 38]]\n",
      "2\n",
      "[ 2 33 38]\n",
      "[12 10  2]\n"
     ]
    }
   ],
   "source": [
    "# finding min element of array\n",
    "\n",
    "arr1=np.array([1,2,5,22,33,44,2,1,3,889,33,23,4])\n",
    "\n",
    "# print(arr1.min())\n",
    "#1\n",
    "\n",
    "#or\n",
    "\n",
    "print(np.min(arr1))\n",
    "\n",
    "# 1\n",
    "\n",
    "arr=np.array([[12,33,45],[10,54,90],[2,89,38]])\n",
    "\n",
    "print(arr)\n",
    "\n",
    "# [[12 33 45]\n",
    "#  [10 54 90]\n",
    "#  [ 2 89 38]]\n",
    "\n",
    "print(np.min(arr)) # or arr.min()\n",
    "\n",
    "# 2\n",
    "\n",
    "print(np.min(arr,axis=0)) # or arr.min(axis=0)\n",
    "\n",
    "# [ 2 33 38]\n",
    "\n",
    "print(np.min(arr,axis=1)) # or arr.min(axis=1)\n",
    "\n",
    "# [12 10  2]"
   ]
  },
  {
   "cell_type": "code",
   "execution_count": 32,
   "id": "4e2f2416",
   "metadata": {},
   "outputs": [
    {
     "name": "stdout",
     "output_type": "stream",
     "text": [
      "120\n",
      "[[ 2  3  4]\n",
      " [10  5  1]\n",
      " [ 2  4  3]]\n",
      "28800\n",
      "[40 60 12]\n",
      "[24 50 24]\n"
     ]
    }
   ],
   "source": [
    "# product\n",
    "\n",
    "# finding product of array\n",
    "\n",
    "arr1=np.array([1,2,3,1,2,10])\n",
    "\n",
    "# print(arr1.prod())\n",
    "\n",
    "#or\n",
    "\n",
    "print(np.product(arr1))\n",
    "\n",
    "# 120\n",
    "\n",
    "arr=np.array([[2,3,4],[10,5,1],[2,4,3]])\n",
    "\n",
    "print(arr)\n",
    "\n",
    "# [[ 2  3  4]\n",
    "#  [10  5  1]\n",
    "#  [ 2  4  3]]\n",
    "\n",
    "print(np.product(arr)) # or arr.prod()\n",
    "\n",
    "# 28800 --> 2*3*4*10*5*1*2*4*3\n",
    "\n",
    "print(np.product(arr,axis=0)) # or arr.prod(axis=0)\n",
    "\n",
    "# [40 60 12]\n",
    "\n",
    "print(np.product(arr,axis=1)) # or arr.prod(axis=1)\n",
    "\n",
    "# [24 50 24]"
   ]
  },
  {
   "cell_type": "code",
   "execution_count": 33,
   "id": "52e37e66",
   "metadata": {},
   "outputs": [
    {
     "name": "stdout",
     "output_type": "stream",
     "text": [
      "[ 1  2  3  4  5  6  7  8  9 10 11]\n",
      "(array([ 1,  2,  3,  4,  5,  6,  7,  8,  9, 10, 11]), array([ 0,  1,  2,  6,  7,  9, 11, 13, 14, 15, 16], dtype=int64))\n",
      "[11 12 13 14 15 16 17 18]\n",
      "[[11 12 13 14]\n",
      " [15 16 17 18]]\n",
      "[[11 12 13 14]\n",
      " [15 16 17 18]\n",
      " [11 12 13 14]\n",
      " [15 16 17 18]]\n"
     ]
    }
   ],
   "source": [
    "# Unique\n",
    "\n",
    "# Find the unique elements of an array.\n",
    "\n",
    "# Returns the sorted unique elements of an array\n",
    "\n",
    "arr=np.array([1,2,3,2,1,2,4,5,5,6,5,7,7,8,9,10,11])\n",
    "\n",
    "print(np.unique(arr))\n",
    "\n",
    "# [ 1  2  3  4  5  6  7  8  9 10 11]\n",
    "\n",
    "# we can return the indices as well\n",
    "\n",
    "print(np.unique(arr,return_index=True))\n",
    "\n",
    "# (array([ 1,  2,  3,  4,  5,  6,  7,  8,  9, 10, 11]), array([ 0,  1,  2,  6,  7,  9, 11, 13, 14, 15, 16], dtype=int64))\n",
    "\n",
    "arr1=np.array([[11,12,13,14],[15,16,17,18],[11,12,13,14],[15,16,17,18]])\n",
    "\n",
    "print(np.unique(arr1))\n",
    "\n",
    "# [11 12 13 14 15 16 17 18]\n",
    "\n",
    "# working with axis:\n",
    "\n",
    "print(np.unique(arr1,axis=0)) # unique rows will be returned \n",
    "\n",
    "# [[11 12 13 14]\n",
    "#  [15 16 17 18]]\n",
    "\n",
    "print(np.unique(arr1,axis=1)) # unique columns will be returned\n",
    "\n",
    "# [[11 12 13 14]\n",
    "#  [15 16 17 18]\n",
    "#  [11 12 13 14]\n",
    "#  [15 16 17 18]]"
   ]
  },
  {
   "cell_type": "code",
   "execution_count": 34,
   "id": "149e7ec9",
   "metadata": {},
   "outputs": [
    {
     "name": "stdout",
     "output_type": "stream",
     "text": [
      "(array([11, 12, 13, 14, 15, 16, 17, 18]), array([2, 2, 2, 2, 2, 2, 2, 2], dtype=int64))\n",
      "unique elements: [11 12 13 14 15 16 17 18]\n",
      "count of elements: [2 2 2 2 2 2 2 2]\n"
     ]
    }
   ],
   "source": [
    "# counts using unique function\n",
    "\n",
    "arr1=np.array([[11,12,13,14],[15,16,17,18],[11,12,13,14],[15,16,17,18]])\n",
    "\n",
    "print(np.unique(arr1,return_counts=True))\n",
    "\n",
    "# (array([11, 12, 13, 14, 15, 16, 17, 18]), array([2, 2, 2, 2, 2, 2, 2, 2], dtype=int64))\n",
    "\n",
    "uniq_ele, count_ele=np.unique(arr1,return_counts=True)\n",
    "\n",
    "print(\"unique elements:\",uniq_ele)\n",
    "\n",
    "# unique elements: [11 12 13 14 15 16 17 18]\n",
    "\n",
    "print(\"count of elements:\",count_ele)\n",
    "\n",
    "# count of elements: [2 2 2 2 2 2 2 2]"
   ]
  },
  {
   "cell_type": "code",
   "execution_count": 35,
   "id": "b8dac117",
   "metadata": {},
   "outputs": [
    {
     "name": "stdout",
     "output_type": "stream",
     "text": [
      "arr1:\n",
      " [[11 12 13 14]\n",
      " [15 16 17 18]\n",
      " [11 12 13 14]\n",
      " [15 16 17 18]]\n",
      "[[11 15 11 15]\n",
      " [12 16 12 16]\n",
      " [13 17 13 17]\n",
      " [14 18 14 18]]\n",
      "[[11 15 11 15]\n",
      " [12 16 12 16]\n",
      " [13 17 13 17]\n",
      " [14 18 14 18]]\n"
     ]
    }
   ],
   "source": [
    "# Transposing the array\n",
    "\n",
    "arr1=np.array([[11,12,13,14],[15,16,17,18],[11,12,13,14],[15,16,17,18]])\n",
    "\n",
    "print(\"arr1:\\n\",arr1)\n",
    "\n",
    "# arr1:\n",
    "#  [[11 12 13 14]\n",
    "#  [15 16 17 18]\n",
    "#  [11 12 13 14]\n",
    "#  [15 16 17 18]]\n",
    "\n",
    "print(arr1.T) # arr1 will be transposed ( rows will be converted into columns and col will be converted into rows)\n",
    "\n",
    "# [[11 15 11 15]\n",
    "#  [12 16 12 16]\n",
    "#  [13 17 13 17]\n",
    "#  [14 18 14 18]]\n",
    "\n",
    "# we can also perform transpose operation as \n",
    "\n",
    "print(arr1.transpose())\n",
    "\n",
    "# [[11 15 11 15]\n",
    "#  [12 16 12 16]\n",
    "#  [13 17 13 17]\n",
    "#  [14 18 14 18]]"
   ]
  },
  {
   "cell_type": "code",
   "execution_count": 36,
   "id": "31499abd",
   "metadata": {},
   "outputs": [
    {
     "name": "stdout",
     "output_type": "stream",
     "text": [
      "[9 8 7 6 5 4 3 2 1]\n",
      "[[11 12 13 14]\n",
      " [15 16 17 18]\n",
      " [19 20 21 22]\n",
      " [23 24 25 26]]\n",
      "[[23 24 25 26]\n",
      " [19 20 21 22]\n",
      " [15 16 17 18]\n",
      " [11 12 13 14]]\n",
      "[[14 13 12 11]\n",
      " [18 17 16 15]\n",
      " [22 21 20 19]\n",
      " [26 25 24 23]]\n"
     ]
    }
   ],
   "source": [
    "# Reversing an array\n",
    "\n",
    "# flip\n",
    "\n",
    "# Reverse the order of elements in an array along the given axis.\n",
    "\n",
    "# The shape of the array is preserved, but the elements are reordered.\n",
    "\n",
    "arr= np.array([1,2,3,4,5,6,7,8,9])\n",
    "\n",
    "print(np.flip(arr))\n",
    "\n",
    "# for 2D array\n",
    "\n",
    "\n",
    "arr1=np.array([[11,12,13,14],[15,16,17,18],[19,20,21,22],[23,24,25,26]])\n",
    "\n",
    "print(arr1)\n",
    "\n",
    "# [[11 12 13 14]\n",
    "#  [15 16 17 18]\n",
    "#  [19 20 21 22]\n",
    "#  [23 24 25 26]]\n",
    "\n",
    "print(np.flip(arr1,axis=0)) # axis=0, every 1st element from every row will be taken into consideration and the data will be flipped\n",
    "\n",
    "                           # again every 2nd element from every row will be taken into consideration and the data will be flipped , process continues\n",
    "# [[23 24 25 26]\n",
    "#  [19 20 21 22]\n",
    "#  [15 16 17 18]\n",
    "#  [11 12 13 14]]\n",
    "\n",
    "print(np.flip(arr1,axis=1)) # axis=0, every 1st element from every column will be taken into consideration and the data will be flipped\n",
    "\n",
    "                           # again every 2nd element from every column will be taken into consideration and the data will be flipped , process continues\n",
    "\n",
    "# [[14 13 12 11]\n",
    "#  [18 17 16 15]\n",
    "#  [22 21 20 19]\n",
    "#  [26 25 24 23]]"
   ]
  },
  {
   "cell_type": "code",
   "execution_count": 37,
   "id": "c47d5d4b",
   "metadata": {},
   "outputs": [
    {
     "name": "stdout",
     "output_type": "stream",
     "text": [
      "[[11 12 13 14]\n",
      " [15 16 17 18]]\n",
      "[11 12 13 14 15 16 17 18]\n",
      "[[11 12 13 14]\n",
      " [15 16 17 18]]\n",
      "[[11 12 13 14]\n",
      " [15 16 17 18]]\n",
      "[11 12 13 14 15 16 17 18]\n",
      "[[1000   12   13   14]\n",
      " [  15   16   17   18]]\n"
     ]
    }
   ],
   "source": [
    "# flatten and ravel\n",
    "\n",
    "#  flatten\n",
    "\n",
    "# when we use flatten function to flatten the array, if we did any changes to our flatten array it will not change the parent array.\n",
    "\n",
    "arr= np.array([[11,12,13,14],[15,16,17,18]])\n",
    "\n",
    "print(arr)\n",
    "\n",
    "# [[11 12 13 14]\n",
    "#  [15 16 17 18]]\n",
    "\n",
    "print(arr.flatten())\n",
    "\n",
    "# [11 12 13 14 15 16 17 18]\n",
    "\n",
    "flat_arr= arr.flatten()\n",
    "\n",
    "flat_arr[0]=1000\n",
    "\n",
    "print(arr) # No change occured to the parent array after making changes in flattend array\n",
    "\n",
    "# [[11 12 13 14]\n",
    "#  [15 16 17 18]]\n",
    "\n",
    "\n",
    "#**********************************************************************************************************************\n",
    "\n",
    "#Ravel\n",
    "\n",
    "# when we use ravel function to flatten the array, if we did any changes to our flatten array it will change (effect) the parent array.\n",
    "\n",
    "arr= np.array([[11,12,13,14],[15,16,17,18]])\n",
    "\n",
    "print(arr)\n",
    "\n",
    "# [[11 12 13 14]\n",
    "#  [15 16 17 18]]\n",
    "\n",
    "print(arr.ravel())\n",
    "\n",
    "# [11 12 13 14 15 16 17 18]\n",
    "\n",
    "flat_arr= arr.ravel()\n",
    "\n",
    "flat_arr[0]=1000\n",
    "\n",
    "print(arr) # changes occured to the parent array after making changes in flattend array\n",
    "\n",
    "# [[1000   12   13   14]\n",
    "#  [  15   16   17   18]]"
   ]
  },
  {
   "cell_type": "code",
   "execution_count": 38,
   "id": "40a1f164",
   "metadata": {},
   "outputs": [
    {
     "name": "stdout",
     "output_type": "stream",
     "text": [
      "(5,)\n",
      "1\n",
      "(5, 1)\n",
      "2\n",
      "(1, 5)\n",
      "2\n"
     ]
    }
   ],
   "source": [
    "# Converting 1D array to 2D array\n",
    "\n",
    "arr=np.array([11,12,13,14,15])\n",
    "\n",
    "print(arr.shape)\n",
    "\n",
    "print(arr.ndim)\n",
    "\n",
    "# making arr as 2 dimension using expand_dims\n",
    "\n",
    "arr1=np.expand_dims(arr,axis=1)\n",
    "\n",
    "print(arr1.shape) # (5, 1)\n",
    "\n",
    "print(arr1.ndim) # 2\n",
    "\n",
    "arr2=np.expand_dims(arr,axis=0)\n",
    "\n",
    "print(arr2.shape) # (1, 5)\n",
    "print(arr2.ndim) # 2"
   ]
  },
  {
   "cell_type": "code",
   "execution_count": 39,
   "id": "548b68a3",
   "metadata": {},
   "outputs": [
    {
     "name": "stdout",
     "output_type": "stream",
     "text": [
      "[1. 1. 2. 3.]\n",
      "[0.8 0.9 2.5 3.1]\n",
      "[[11.4  12.4   0.75  1.4 ]\n",
      " [44.5  30.7  29.6  32.8 ]]\n",
      "[[11. 12.  1.  1.]\n",
      " [44. 31. 30. 33.]]\n",
      "[[11.4 12.4  0.8  1.4]\n",
      " [44.5 30.7 29.6 32.8]]\n"
     ]
    }
   ],
   "source": [
    "# Rounding\n",
    "\n",
    "# Evenly round to the given number of decimals.\n",
    "\n",
    "arr=np.array([0.75,0.9,2.5,3.1])\n",
    "\n",
    "print(np.round(arr))\n",
    "\n",
    "# [1. 1. 2. 3.]\n",
    "\n",
    "print(np.round(arr,decimals=1)) # rounded upto one decimal point\n",
    "\n",
    "# [0.8 0.9 2.5 3.1]\n",
    "\n",
    "#***********************************************************************************************************************\n",
    "\n",
    "arr1=np.array([[11.4,12.4,0.75,1.4],[44.5,30.7,29.6,32.8]])\n",
    "\n",
    "print(arr1)\n",
    "\n",
    "# [[11.4  12.4   0.75  1.4 ]\n",
    "#  [44.5  30.7  29.6  32.8 ]]\n",
    "\n",
    "print(np.round(arr1))\n",
    "\n",
    "# [[11. 12.  1.  1.]\n",
    "#  [44. 31. 30. 33.]]\n",
    "\n",
    "print(np.round(arr1,decimals=1))\n",
    "\n",
    "# [[11.4 12.4  0.8  1.4]\n",
    "#  [44.5 30.7 29.6 32.8]]"
   ]
  },
  {
   "cell_type": "code",
   "execution_count": 40,
   "id": "ca08b3a4",
   "metadata": {},
   "outputs": [
    {
     "name": "stdout",
     "output_type": "stream",
     "text": [
      "[[11 22 33 44]\n",
      " [55 66 77 88]]\n",
      "[[11 29 66 44]\n",
      " [21 66 65 88]]\n",
      "[[False  True  True False]\n",
      " [False False False False]]\n",
      "[22 33]\n"
     ]
    }
   ],
   "source": [
    "# less and greater\n",
    "\n",
    "# less\n",
    "\n",
    "# Return the truth value of (x1 < x2) element-wise.\n",
    "\n",
    "a= np.array([[11,22,33,44],[55,66,77,88]])\n",
    "b= np.array([[11,29,66,44],[21,66,65,88]])\n",
    "\n",
    "print(a)\n",
    "\n",
    "# [[11 22 33 44]\n",
    "#  [55 66 77 88]]\n",
    "\n",
    "print(b)\n",
    "\n",
    "# [[11 29 66 44]\n",
    "#  [21 66 65 88]]\n",
    "\n",
    "print(np.less(a,b))\n",
    "\n",
    "# [[False  True  True False]\n",
    "#  [False False False False]]\n",
    "\n",
    "less= np.less(a,b)\n",
    "\n",
    "print(a[less])\n",
    "\n",
    "# [22 33]"
   ]
  },
  {
   "cell_type": "code",
   "execution_count": 41,
   "id": "997694d1",
   "metadata": {},
   "outputs": [
    {
     "name": "stdout",
     "output_type": "stream",
     "text": [
      "[[11 22 33 44]\n",
      " [55 66 77 88]]\n",
      "[[11 29 66 44]\n",
      " [21 66 65 88]]\n",
      "[[False False False False]\n",
      " [ True False  True False]]\n",
      "[55 77]\n"
     ]
    }
   ],
   "source": [
    "# Greater\n",
    "\n",
    "# Return the truth value of (x1 > x2) element-wise.\n",
    "\n",
    "a= np.array([[11,22,33,44],[55,66,77,88]])\n",
    "b= np.array([[11,29,66,44],[21,66,65,88]])\n",
    "\n",
    "print(a)\n",
    "\n",
    "# [[11 22 33 44]\n",
    "#  [55 66 77 88]]\n",
    "\n",
    "print(b)\n",
    "\n",
    "# [[11 29 66 44]\n",
    "#  [21 66 65 88]]\n",
    "\n",
    "print(np.greater(a,b))\n",
    "\n",
    "# [[False False False False]\n",
    "#  [ True False  True False]]\n",
    "\n",
    "greater= np.greater(a,b)\n",
    "\n",
    "print(a[greater])\n",
    "\n",
    "# [55 77]"
   ]
  },
  {
   "cell_type": "code",
   "execution_count": 42,
   "id": "6176d287",
   "metadata": {},
   "outputs": [
    {
     "name": "stdout",
     "output_type": "stream",
     "text": [
      "[[11 22 33 44]\n",
      " [55 66 77 88]]\n",
      "[[11 29 66 44]\n",
      " [21 66 65 88]]\n",
      "[[ True False False  True]\n",
      " [ True  True  True  True]]\n",
      "[11 44 55 66 77 88]\n"
     ]
    }
   ],
   "source": [
    "# Greater equal\n",
    "\n",
    "# Return the truth value of (x1 >= x2) element-wise.\n",
    "\n",
    "a= np.array([[11,22,33,44],[55,66,77,88]])\n",
    "b= np.array([[11,29,66,44],[21,66,65,88]])\n",
    "\n",
    "print(a)\n",
    "\n",
    "# [[11 22 33 44]\n",
    "#  [55 66 77 88]]\n",
    "\n",
    "print(b)\n",
    "\n",
    "# [[11 29 66 44]\n",
    "#  [21 66 65 88]]\n",
    "\n",
    "print(np.greater_equal(a,b))\n",
    "\n",
    "# [[ True False False  True]\n",
    "#  [ True  True  True  True]]\n",
    "\n",
    "great_e= np.greater_equal(a,b)\n",
    "\n",
    "print(a[great_e])\n",
    "\n",
    "# [11 44 55 66 77 88]"
   ]
  },
  {
   "cell_type": "code",
   "execution_count": 43,
   "id": "d2728e89",
   "metadata": {},
   "outputs": [
    {
     "name": "stdout",
     "output_type": "stream",
     "text": [
      "[10 21 31 32 34 37]\n",
      "[[ 1  2  3  4  5]\n",
      " [ 7  6  8 14 16]]\n",
      "[[ 1  3  6 10 15]\n",
      " [ 6 10 15 25 36]]\n"
     ]
    }
   ],
   "source": [
    "# cumulative sum\n",
    "\n",
    "# Return the cumulative sum of the elements along a given axis.\n",
    "\n",
    "arr=np.array([10,11,10,1,2,3])\n",
    "\n",
    "print(np.cumsum(arr)) # [10 21 31 32 34 37]\n",
    "\n",
    "\n",
    "arr1= np.array([[1,2,3,4,5],[6,4,5,10,11]])\n",
    "\n",
    "print(np.cumsum(arr1,axis=0))\n",
    "\n",
    "# [[ 1  2  3  4  5]\n",
    "#  [ 7  6  8 14 16]]\n",
    "\n",
    "print(np.cumsum(arr1,axis=1))\n",
    "\n",
    "# [[ 1  3  6 10 15]\n",
    "#  [ 6 10 15 25 36]]\n",
    "\n",
    "#IMPORTANT\n",
    "\n",
    "# we use same concept for np.cumprod and np.cumproduct as well"
   ]
  },
  {
   "cell_type": "code",
   "execution_count": 44,
   "id": "8cae1655",
   "metadata": {},
   "outputs": [
    {
     "name": "stdout",
     "output_type": "stream",
     "text": [
      "4\n",
      "6\n",
      "[[ 10  11  22   1]\n",
      " [ 45 435   0  90]\n",
      " [ 89  67  45   1]]\n",
      "[0 0 1 0]\n",
      "[3 2 3]\n",
      "[2 1 2 1]\n",
      "[2 1 0]\n"
     ]
    }
   ],
   "source": [
    "# argmin and argmax\n",
    "\n",
    "#argmin is used to find the index of the min element \n",
    "\n",
    "arr= np.array([1,2,3,2,0,4,100])\n",
    "\n",
    "print(np.argmin(arr)) # index of 0 is 4\n",
    "\n",
    "print(np.argmax(arr)) # index of large element 100 is 6.\n",
    "\n",
    "#******************************************************************************************************************************\n",
    "\n",
    "arr1=np.array([[10,11,22,1],[45,435,0,90],[89,67,45,1]])\n",
    "\n",
    "print(arr1)\n",
    "\n",
    "# [[ 10  11  22   1]\n",
    "#  [ 45 435   0  90]\n",
    "#  [ 89  67  45   1]]\n",
    "\n",
    "print(np.argmin(arr1,axis=0))\n",
    "\n",
    "# [0 0 1 0]\n",
    "\n",
    "print(np.argmin(arr1,axis=1))\n",
    "\n",
    "# [3 2 3]\n",
    "\n",
    "print(np.argmax(arr1,axis=0))\n",
    "\n",
    "# [2 1 2 1]\n",
    "\n",
    "print(np.argmax(arr1,axis=1))\n",
    "\n",
    "# [2 1 0]"
   ]
  },
  {
   "cell_type": "code",
   "execution_count": 45,
   "id": "cb2ab5eb",
   "metadata": {},
   "outputs": [
    {
     "name": "stdout",
     "output_type": "stream",
     "text": [
      "[array([11, 12, 13]), array([14, 15, 16])]\n",
      "[array([11]), array([12, 13, 14]), array([15, 16])]\n"
     ]
    }
   ],
   "source": [
    "# Splitting arrays\n",
    "\n",
    "# Split an array into multiple sub-arrays as views into `ary`.\n",
    "\n",
    "arr=np.array([11,12,13,14,15,16])\n",
    "\n",
    "print(np.split(arr,2))\n",
    "\n",
    "# [array([11, 12, 13]), array([14, 15, 16])]\n",
    "\n",
    "print(np.split(arr,[1,4])) # 1st index to 3rd index will be consider as one array, left and right side list will become seperate array's\n",
    "\n",
    "# [array([11]), array([12, 13, 14]), array([15, 16])]"
   ]
  },
  {
   "cell_type": "code",
   "execution_count": 46,
   "id": "93b7e1fc",
   "metadata": {},
   "outputs": [
    {
     "name": "stdout",
     "output_type": "stream",
     "text": [
      "[[ 0  1  2  3]\n",
      " [ 4  5  6  7]\n",
      " [ 8  9 10 11]\n",
      " [12 13 14 15]]\n",
      "[array([[ 0,  1],\n",
      "       [ 4,  5],\n",
      "       [ 8,  9],\n",
      "       [12, 13]]), array([[ 2,  3],\n",
      "       [ 6,  7],\n",
      "       [10, 11],\n",
      "       [14, 15]])]\n",
      "[array([[ 0],\n",
      "       [ 4],\n",
      "       [ 8],\n",
      "       [12]]), array([[ 1],\n",
      "       [ 5],\n",
      "       [ 9],\n",
      "       [13]]), array([[ 2],\n",
      "       [ 6],\n",
      "       [10],\n",
      "       [14]]), array([[ 3],\n",
      "       [ 7],\n",
      "       [11],\n",
      "       [15]])]\n"
     ]
    }
   ],
   "source": [
    "#hsplit\n",
    "\n",
    "# It is a special case of split() function where axis=1 indicating a horizontal split regardless of the dimension of the input array\n",
    "\n",
    "arr= np.arange(16).reshape(4,4)\n",
    "\n",
    "print(arr)\n",
    "\n",
    "# [[ 0  1  2  3]\n",
    "#  [ 4  5  6  7]\n",
    "#  [ 8  9 10 11]\n",
    "#  [12 13 14 15]]\n",
    "\n",
    "print(np.hsplit(arr,2)) # it will split the array column wise and divide the colummns into 2 eaual parts, Here we have 4 columns so we can divide as 2 columms + 2 columns\n",
    "\n",
    "# [array([[ 0,  1],\n",
    "#        [ 4,  5],\n",
    "#        [ 8,  9],\n",
    "#        [12, 13]]), array([[ 2,  3],\n",
    "#        [ 6,  7],\n",
    "#        [10, 11],\n",
    "#        [14, 15]])]\n",
    "\n",
    "print(np.hsplit(arr,4))\n",
    "\n",
    "# [array([[ 0],\n",
    "#        [ 4],\n",
    "#        [ 8],\n",
    "#        [12]]), array([[ 1],\n",
    "#        [ 5],\n",
    "#        [ 9],\n",
    "#        [13]]), array([[ 2],\n",
    "#        [ 6],\n",
    "#        [10],\n",
    "#        [14]]), array([[ 3],\n",
    "#        [ 7],\n",
    "#        [11],\n",
    "#        [15]])]"
   ]
  },
  {
   "cell_type": "code",
   "execution_count": 47,
   "id": "aca3b134",
   "metadata": {},
   "outputs": [
    {
     "name": "stdout",
     "output_type": "stream",
     "text": [
      "[array([[10, 11, 22,  1]]), array([[ 45, 435,   0,  90]]), array([[89, 67, 45,  1]])]\n",
      "[array([[10, 11, 22,  1]]), array([[ 45, 435,   0,  90]]), array([[89, 67, 45,  1]]), array([[100, 101, 102, 103]])]\n",
      "[array([[ 10,  11,  22,   1],\n",
      "       [ 45, 435,   0,  90]]), array([[ 89,  67,  45,   1],\n",
      "       [100, 101, 102, 103]])]\n"
     ]
    }
   ],
   "source": [
    "# vsplit\n",
    "\n",
    "# It is a function where axis=0 indicating a vertical split regardless of the dimension of the input array\n",
    "\n",
    "arr1=np.array([[10,11,22,1],[45,435,0,90],[89,67,45,1]])\n",
    "\n",
    "print(np.vsplit(arr1,3)) # It will convert the whole array into 3 equal arrays (row splitting)\n",
    "\n",
    "arr1=np.array([[10,11,22,1],[45,435,0,90],[89,67,45,1],[100,101,102,103]])\n",
    "\n",
    "# print(np.vsplit(arr1,3)) # we will get error because of arr1 has 4 rows , but in condition we gave 3, we can't divide 4 rows as 3 equal arrays\n",
    "\n",
    "print(np.vsplit(arr1,4))\n",
    "\n",
    "# [array([[10, 11, 22,  1]]), array([[ 45, 435,   0,  90]]), array([[89, 67, 45,  1]]), array([[100, 101, 102, 103]])]\n",
    "\n",
    "print(np.vsplit(arr1,2)) # here we have 4 rows , but we gave condition to convert 4 rows as 2 equal rows( its possible 2 rows+ 2 rows)\n",
    "\n",
    "# [array([[ 10,  11,  22,   1],\n",
    "#        [ 45, 435,   0,  90]]), array([[ 89,  67,  45,   1],\n",
    "#        [100, 101, 102, 103]])]"
   ]
  },
  {
   "cell_type": "code",
   "execution_count": 48,
   "id": "8572cd4f",
   "metadata": {},
   "outputs": [
    {
     "name": "stdout",
     "output_type": "stream",
     "text": [
      "[[1 2 3]\n",
      " [4 5 6]]\n",
      "[[1 2]\n",
      " [3 4]\n",
      " [5 6]]\n",
      "[[1 2 3]\n",
      " [4 5 6]\n",
      " [1 2 3]]\n",
      "[[1 2 3 4 5]\n",
      " [6 1 2 3 4]\n",
      " [5 6 1 2 3]\n",
      " [4 5 6 1 2]\n",
      " [3 4 5 6 1]]\n"
     ]
    }
   ],
   "source": [
    "# resize\n",
    "\n",
    "arr= np.array([[1,2,3],[4,5,6]])\n",
    "\n",
    "print(arr)\n",
    "\n",
    "# [[1 2 3]\n",
    "#  [4 5 6]]\n",
    "\n",
    "print(np.resize(arr,(3,2)))\n",
    "\n",
    "# [[1 2]\n",
    "#  [3 4]\n",
    "#  [5 6]]\n",
    "\n",
    "print(np.resize(arr,(3,3))) # size of array won't matters the content will repeat from the initial element to fill the extra elemets\n",
    "\n",
    "# [[1 2 3]\n",
    "#  [4 5 6]\n",
    "#  [1 2 3]]\n",
    "\n",
    "print(np.resize(arr,(5,5)))\n",
    "\n",
    "# [[1 2 3 4 5]\n",
    "#  [6 1 2 3 4]\n",
    "#  [5 6 1 2 3]\n",
    "#  [4 5 6 1 2]\n",
    "#  [3 4 5 6 1]]"
   ]
  },
  {
   "cell_type": "code",
   "execution_count": 49,
   "id": "c75e715a",
   "metadata": {},
   "outputs": [
    {
     "name": "stdout",
     "output_type": "stream",
     "text": [
      "[ 10  20  30  40 100 200 300]\n",
      "[10 20 30 40]\n",
      "[[10 20 30 40]\n",
      " [50 60 70 80]]\n",
      "[ 10  20  30  40  50  60  70  80  90 100 110 120]\n",
      "[[ 10  20  30  40]\n",
      " [ 50  60  70  80]\n",
      " [ 90 100 110 120]]\n",
      "[[ 10  20  30  40 999]\n",
      " [ 50  60  70  80 998]]\n"
     ]
    }
   ],
   "source": [
    "# Append\n",
    "\n",
    "arr=np.array([10,20,30,40])\n",
    "\n",
    "print(np.append(arr,[100,200,300]))\n",
    "\n",
    "arr1=np.append(arr,[100,200,300])\n",
    "\n",
    "print(arr) # content in parent array won't change \n",
    "\n",
    "#**************************************************************************************************************\n",
    "\n",
    "# 2D array\n",
    "\n",
    "arr= np.array([[10,20,30,40],[50,60,70,80]])\n",
    "\n",
    "print(arr)\n",
    "\n",
    "# [[10 20 30 40]\n",
    "#  [50 60 70 80]]\n",
    "\n",
    "print(np.append(arr,[[90,100,110,120]])) # If we didn't specify any axis then it append the content by flatten the array\n",
    "\n",
    "print(np.append(arr,[[90,100,110,120]],axis=0)) # To append the content to row , the count of columns should match.\n",
    "\n",
    "# [[ 10  20  30  40]\n",
    "#  [ 50  60  70  80]\n",
    "#  [ 90 100 110 120]]\n",
    "\n",
    "print(np.append(arr,[[999],[998]],axis=1)) # To append the content to column the count of rows needs to match\n",
    "\n",
    "# [[ 10  20  30  40 999]\n",
    "#  [ 50  60  70  80 998]]\n"
   ]
  },
  {
   "cell_type": "code",
   "execution_count": 50,
   "id": "1425f132",
   "metadata": {},
   "outputs": [
    {
     "name": "stdout",
     "output_type": "stream",
     "text": [
      "[ 10  20 200 400 500  30  40]\n",
      "[[10 20 30 40]\n",
      " [50 60 70 80]\n",
      " [ 1  2  3  4]]\n",
      "[[  10   20   30   40]\n",
      " [1000 2000 3000 4000]\n",
      " [  50   60   70   80]\n",
      " [   1    2    3    4]]\n",
      "[[ 10  20 999  30  40]\n",
      " [ 50  60 998  70  80]\n",
      " [  1   2 997   3   4]]\n",
      "[[ 10  20 100 200 300  30  40]\n",
      " [ 50  60 100 200 300  70  80]\n",
      " [  1   2 100 200 300   3   4]]\n"
     ]
    }
   ],
   "source": [
    "# insert\n",
    "\n",
    "# numpy.insert(arr, obj, values, axis)\n",
    "\n",
    "# obj --> the index before which insertion is to be made\n",
    "\n",
    "# values --> the array of values that needs to be inserted\n",
    "\n",
    "arr=np.array([10,20,30,40])\n",
    "\n",
    "print(np.insert(arr,2,[200,400,500]))\n",
    "\n",
    "# [ 10,  20, 200, 400, 500,  30,  40]\n",
    "\n",
    "#****************************************************************************************\n",
    "\n",
    "arr= np.array([[10,20,30,40],[50,60,70,80],[1,2,3,4]])\n",
    "\n",
    "print(arr)\n",
    "\n",
    "# [[10 20 30 40]\n",
    "#  [50 60 70 80]\n",
    "#  [ 1  2  3  4]]\n",
    "\n",
    "print(np.insert(arr,1,[1000,2000,3000,4000],axis=0)) # inserted at 1st index (the column count must match for the passing row)\n",
    "\n",
    "# [[  10   20   30   40]\n",
    "#  [1000 2000 3000 4000]\n",
    "#  [  50   60   70   80]\n",
    "#  [   1    2    3    4]]\n",
    "\n",
    "print(np.insert(arr,2,[999,998,997],axis=1))  # inserted at 2nd index (the row count must match for the passing column elements)\n",
    "\n",
    "# [[ 10  20 999  30  40]\n",
    "#  [ 50  60 998  70  80]\n",
    "#  [  1   2 997   3   4]]\n",
    "\n",
    "print(np.insert(arr,2,[[100],[200],[300]],axis=1))\n",
    "\n",
    "# [[ 10  20 100 200 300  30  40]\n",
    "#  [ 50  60 100 200 300  70  80]\n",
    "#  [  1   2 100 200 300   3   4]]"
   ]
  }
 ],
 "metadata": {
  "kernelspec": {
   "display_name": "Python 3 (ipykernel)",
   "language": "python",
   "name": "python3"
  },
  "language_info": {
   "codemirror_mode": {
    "name": "ipython",
    "version": 3
   },
   "file_extension": ".py",
   "mimetype": "text/x-python",
   "name": "python",
   "nbconvert_exporter": "python",
   "pygments_lexer": "ipython3",
   "version": "3.10.9"
  }
 },
 "nbformat": 4,
 "nbformat_minor": 5
}
