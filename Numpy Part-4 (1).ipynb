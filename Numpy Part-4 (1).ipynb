{
 "cells": [
  {
   "cell_type": "code",
   "execution_count": 1,
   "id": "3a45e6bd",
   "metadata": {},
   "outputs": [],
   "source": [
    "import numpy as np"
   ]
  },
  {
   "cell_type": "code",
   "execution_count": 2,
   "id": "fc682b88",
   "metadata": {},
   "outputs": [
    {
     "name": "stdout",
     "output_type": "stream",
     "text": [
      "[ 1 10 11 22 25 32 47]\n",
      "[22 11 10 25 32 47  1]\n",
      "[ 1 10 11 22 25 32 47]\n"
     ]
    }
   ],
   "source": [
    "# Sorting, searching and counting functions\n",
    "\n",
    "#sort \n",
    "\n",
    "arr=np.array([22,11,10,25,32,47,1])\n",
    "\n",
    "print(np.sort(arr))\n",
    "\n",
    "#or\n",
    "\n",
    "print(arr)\n",
    "\n",
    "arr.sort() # It won't return any value, it sort the array in the background.\n",
    "\n",
    "print(arr)"
   ]
  },
  {
   "cell_type": "code",
   "execution_count": 3,
   "id": "173b7498",
   "metadata": {},
   "outputs": [
    {
     "name": "stdout",
     "output_type": "stream",
     "text": [
      "[[ 11  34   2   1   6]\n",
      " [ 22   4   2  88  45]\n",
      " [230   4   1  67  89]]\n",
      "[[ 11   4   1   1   6]\n",
      " [ 22   4   2  67  45]\n",
      " [230  34   2  88  89]]\n",
      "[[  1   2   6  11  34]\n",
      " [  2   4  22  45  88]\n",
      " [  1   4  67  89 230]]\n"
     ]
    }
   ],
   "source": [
    "#sorting along the axes\n",
    "\n",
    "arr= np.array([[11,34,2,1,6],[22,4,2,88,45],[230,4,1,67,89]])\n",
    "\n",
    "print(arr)\n",
    "\n",
    "# [[ 11  34   2   1   6]\n",
    "#  [ 22   4   2  88  45]\n",
    "#  [230   4   1  67  89]]\n",
    "\n",
    "print(np.sort(arr,axis=0)) # axis=0--> first element, 2nd element, 3rd element of evey row will be considered and sorted\n",
    "\n",
    "# [[ 11   4   1   1   6]\n",
    "#  [ 22   4   2  67  45]\n",
    "#  [230  34   2  88  89]]\n",
    "\n",
    "print(np.sort(arr,axis=1)) # axis=1-->  first element, 2nd element, 3rd element of evey column will be considered and sorted\n",
    "\n",
    "# [[  1   2   6  11  34]\n",
    "#  [  2   4  22  45  88]\n",
    "#  [  1   4  67  89 230]]"
   ]
  },
  {
   "cell_type": "code",
   "execution_count": 4,
   "id": "10a08ee2",
   "metadata": {},
   "outputs": [
    {
     "name": "stdout",
     "output_type": "stream",
     "text": [
      "8\n",
      "5\n"
     ]
    }
   ],
   "source": [
    "# searchsorted\n",
    "\n",
    "# Find indices where elements should be inserted to maintain order.\n",
    "\n",
    "# Find the indices into a sorted array `a` such that, if the\n",
    "# corresponding elements in `v` were inserted before the indices, the\n",
    "# order of `a` would be preserved.\n",
    "\n",
    "arr=np.array([3,4,5,10,1,2,3,3])\n",
    "\n",
    "print(np.searchsorted(arr,6))\n",
    "\n",
    "# search sorted function will find indices where elements should be inserted to maintain order.\n",
    "\n",
    "# In above example, if we sort the arr --> 1,2,3,3,3,4,5,10 --> so maintain the order we must place '6' at 8th position (not index)\n",
    "\n",
    "arr=np.array([1,10,3,5,2,66,77])\n",
    "\n",
    "print(np.searchsorted(arr,30))\n",
    "\n",
    "# In above example, if we sort the arr --> 1,2,3,5,10,66,77 --> so maintain the order we must place '30' at 5th position (index)\n"
   ]
  },
  {
   "cell_type": "code",
   "execution_count": 5,
   "id": "0fbe0efa",
   "metadata": {},
   "outputs": [
    {
     "name": "stdout",
     "output_type": "stream",
     "text": [
      "13\n",
      "[[11 22  0  0]\n",
      " [ 0  0 33 45]\n",
      " [23  0  0 45]]\n",
      "[2 1 1 2]\n",
      "[2 2 2]\n"
     ]
    }
   ],
   "source": [
    "# Count function\n",
    "\n",
    "# Counts the number of non-zero values in the array ``a``.\n",
    "\n",
    "arr=np.array([1,2,4,3,5,10,11,12,13,0,0,4,5,2,4,0])\n",
    "\n",
    "print(np.count_nonzero(arr)) # There are currently 13 non-zero elements present in the above array\n",
    "\n",
    "# count function with axes\n",
    "\n",
    "arr= np.array([[11,22,0,0],[0,0,33,45],[23,0,0,45]])\n",
    "\n",
    "print(arr)\n",
    "\n",
    "# [[11 22  0  0]\n",
    "#  [ 0  0 33 45]\n",
    "#  [23  0  0 45]]\n",
    "\n",
    "print(np.count_nonzero(arr,axis=0)) # axis=0 ,  first element, 2nd element, 3rd element of every row will be considered\n",
    "\n",
    "# [2 1 1 2]\n",
    "\n",
    "print(np.count_nonzero(arr,axis=1)) # axis=1,  first element, 2nd element, 3rd element of every column will be considered \n",
    "\n",
    "# [2 2 2]"
   ]
  },
  {
   "cell_type": "code",
   "execution_count": 6,
   "id": "12b2f415",
   "metadata": {},
   "outputs": [
    {
     "name": "stdout",
     "output_type": "stream",
     "text": [
      "(array([ 5,  6,  7,  8, 16, 17, 18], dtype=int64),)\n",
      "[10 11 12 13 23 45 67]\n",
      "(array([0, 1, 1, 2, 2], dtype=int64), array([1, 2, 3, 0, 3], dtype=int64))\n",
      "[22 33 45 23 45]\n"
     ]
    }
   ],
   "source": [
    "# where\n",
    "\n",
    "# where(condition, [x, y], /)\n",
    "\n",
    "# Return elements chosen from `x` or `y` depending on `condition`.\n",
    "\n",
    "# Return the indices of the elements based on the condition.\n",
    "\n",
    "arr=np.array([1,2,4,3,5,10,11,12,13,0,0,4,5,2,4,0,23,45,67])\n",
    "\n",
    "print(np.where(arr>5))\n",
    "\n",
    "# (array([ 5,  6,  7,  8, 16, 17, 18], dtype=int64),)\n",
    "\n",
    "print(arr[np.where(arr>5)]) # It will print the all the return elements based on the condition.\n",
    "\n",
    "# [10 11 12 13 23 45 67]\n",
    "\n",
    "# working on 2D array\n",
    "\n",
    "arr1= np.array([[11,22,0,0],[0,0,33,45],[23,0,0,45]])\n",
    "\n",
    "print(np.where(arr1>20))\n",
    "\n",
    "# (array([0, 1, 1, 2, 2], dtype=int64), array([1, 2, 3, 0, 3], dtype=int64))\n",
    "\n",
    "# for 2d arrays, It will provide two arrays as output, first array represents the row index value and second array \n",
    "# represents column index value.\n",
    "\n",
    "# (array([0, 1, 1, 2, 2], dtype=int64), array([1, 2, 3, 0, 3], dtype=int64))\n",
    "\n",
    "# 0th row and 1st column , 1st row and 2nd column , 1st row and 3rd column, 2nd row 0th index, 2nd row 3rd index\n",
    "\n",
    "print(arr1[np.where(arr1>20)])\n",
    "\n",
    "# [22 33 45 23 45]"
   ]
  },
  {
   "cell_type": "code",
   "execution_count": 7,
   "id": "aacf443b",
   "metadata": {},
   "outputs": [
    {
     "name": "stdout",
     "output_type": "stream",
     "text": [
      "[10 11 12  6 13 23 45 67]\n",
      "[False False False False False  True  True  True  True  True False False\n",
      " False False  True  True  True]\n"
     ]
    }
   ],
   "source": [
    "# extract\n",
    "\n",
    "# np.extract(condition, arr)\n",
    "\n",
    "# Return the elements of an array that satisfy some condition.\n",
    "\n",
    "# This is equivalent to ``np.compress(ravel(condition), ravel(arr))``.  If\n",
    "# `condition` is boolean ``np.extract`` is equivalent to ``arr[condition]``.\n",
    "\n",
    "arr=np.array([1,2,4,3,5,10,11,12,6,13,0,0,4,5,2,4,0,23,45,67])\n",
    "\n",
    "print(np.extract(arr>5,arr)) # it will extract the element which satisfies the provided condition\n",
    "\n",
    "# [10 11 12  6 13 23 45 67]\n",
    "\n",
    "print(np.extract(arr,arr>5)) # it will give you whether the element statisfied the given condition or not\n",
    "\n",
    "# [False False False False False  True  True  True  True  True False False\n",
    "#  False False  True  True  True]"
   ]
  },
  {
   "cell_type": "code",
   "execution_count": 8,
   "id": "ce423ec4",
   "metadata": {},
   "outputs": [
    {
     "name": "stdout",
     "output_type": "stream",
     "text": [
      "[167772160 184549376 201326592 218103808 234881024]\n",
      "Before: [10 11 12 13 14]\n",
      "[167772160 184549376 201326592 218103808 234881024]\n",
      "After: [167772160 184549376 201326592 218103808 234881024]\n"
     ]
    }
   ],
   "source": [
    "# Numpy - Byte Swapping [we won't use this in data science]\n",
    "\n",
    "arr=np.array([10,11,12,13,14])\n",
    "\n",
    "print(arr.byteswap()) # Represent the byte data for the given elements\n",
    "\n",
    "print(\"Before:\",arr)\n",
    "\n",
    "print(arr.byteswap(inplace=True)) # If you make inplace as true, then the data in arr will be replaced by bytes data\n",
    "\n",
    "print(\"After:\",arr)"
   ]
  },
  {
   "cell_type": "code",
   "execution_count": 9,
   "id": "aa85a291",
   "metadata": {},
   "outputs": [
    {
     "name": "stdout",
     "output_type": "stream",
     "text": [
      "[1000    2    3    4    5]\n",
      "\n",
      "[1 2 3 4 5]\n",
      "[1 2 3 4 5]\n",
      "[1 2 3 4 5]\n",
      "[999   2   3   4   5]\n",
      "[999   2   3   4   5]\n"
     ]
    }
   ],
   "source": [
    "# Copy and views ( same as deep copy (Copy) and shallow copy(View))\n",
    "\n",
    "arr=np.array([1,2,3,4,5])\n",
    "\n",
    "arr1=arr.copy() # Deep copy\n",
    "\n",
    "# deep copy means if you modify the content in arr it won't affect the content in the arr1, that means both arrays points to \n",
    "# different memory locations.\n",
    "\n",
    "arr[0]=1000\n",
    "\n",
    "print(arr)\n",
    "\n",
    "print()\n",
    "\n",
    "print(arr1)\n",
    "\n",
    "#****************************************************************************************\n",
    "\n",
    "arr=np.array([1,2,3,4,5])\n",
    "\n",
    "a=arr # shallow copy\n",
    "\n",
    "# here both a and arr points to the same memory location, because of that reason , if we modify the content in any one array \n",
    "# then another array will also affected with that change\n",
    "\n",
    "print(arr)\n",
    "print(a)\n",
    "\n",
    "a[0]=999\n",
    "\n",
    "print(arr)\n",
    "print(a)"
   ]
  },
  {
   "cell_type": "code",
   "execution_count": 10,
   "id": "18bf6e1c",
   "metadata": {},
   "outputs": [
    {
     "name": "stdout",
     "output_type": "stream",
     "text": [
      "Before: [1 2 3 4]\n",
      "Before: [1 2 3 4]\n",
      "After: [1 2 3 4]\n",
      "After: [56  2  3  4]\n",
      "before: [11 22 33 44]\n",
      "before: [11 22 33 44]\n",
      "after: [899  22  33  44]\n",
      "after: [899  22  33  44]\n"
     ]
    }
   ],
   "source": [
    "# Copy and view \n",
    "\n",
    "#Copy (similar to deep copy)\n",
    "\n",
    "arr=np.array([1,2,3,4])\n",
    "\n",
    "arr1=np.copy(arr) # same as arr.copy()\n",
    "\n",
    "# Copy means if you modify the content in arr it won't affect the content in the arr1, that means both arrays points to \n",
    "# different memory locations.\n",
    "\n",
    "print(\"Before:\",arr)\n",
    "print(\"Before:\",arr1)\n",
    "\n",
    "arr1[0]=56\n",
    "\n",
    "print(\"After:\",arr)\n",
    "print(\"After:\",arr1)\n",
    "\n",
    "#view (same as shallow copy operation)\n",
    "\n",
    "arr2=np.array([11,22,33,44])\n",
    "arr3=arr2.view()\n",
    "\n",
    "print(\"before:\",arr2)\n",
    "print(\"before:\",arr3)\n",
    "\n",
    "arr3[0]=899\n",
    "\n",
    "print(\"after:\",arr2)\n",
    "print(\"after:\",arr3)"
   ]
  },
  {
   "cell_type": "code",
   "execution_count": 11,
   "id": "2fc74b50",
   "metadata": {},
   "outputs": [
    {
     "name": "stdout",
     "output_type": "stream",
     "text": [
      "Before: [1 2 3 4]\n",
      "Before: [1 2 3 4]\n",
      "After: [1 2 3 4]\n",
      "After: [56  2  3  4]\n",
      "before: [11 22 33 44]\n",
      "before: [11 22 33 44]\n",
      "after: [899  22  33  44]\n",
      "after: [899  22  33  44]\n"
     ]
    }
   ],
   "source": [
    "# Copy and view \n",
    "\n",
    "#Copy (same as deep copy)\n",
    "\n",
    "arr=np.array([1,2,3,4])\n",
    "\n",
    "arr1=np.copy(arr) # same as arr.copy()\n",
    "\n",
    "# Copy means if you modify the content in arr it won't affect the content in the arr1, that means both arrays points to \n",
    "# different memory locations.\n",
    "\n",
    "print(\"Before:\",arr)\n",
    "print(\"Before:\",arr1)\n",
    "\n",
    "arr1[0]=56\n",
    "\n",
    "print(\"After:\",arr)\n",
    "print(\"After:\",arr1)\n",
    "\n",
    "#view (same as shallow copy operation)\n",
    "\n",
    "arr2=np.array([11,22,33,44])\n",
    "arr3=arr2.view()\n",
    "\n",
    "print(\"before:\",arr2)\n",
    "print(\"before:\",arr3)\n",
    "\n",
    "arr3[0]=899\n",
    "\n",
    "print(\"after:\",arr2)\n",
    "print(\"after:\",arr3)"
   ]
  },
  {
   "cell_type": "code",
   "execution_count": 12,
   "id": "05985db7",
   "metadata": {},
   "outputs": [],
   "source": [
    "# Numpy matrix ( same as array but here the type is matrix)\n",
    "\n",
    "import numpy.matlib as matrix # this matlib library has all the functions what array have like np.eye, np.identity, np.zeros etc.,"
   ]
  },
  {
   "cell_type": "code",
   "execution_count": 13,
   "id": "fd9b6d1a",
   "metadata": {},
   "outputs": [
    {
     "name": "stdout",
     "output_type": "stream",
     "text": [
      "[[0. 0. 0.]\n",
      " [0. 0. 0.]\n",
      " [0. 0. 0.]]\n"
     ]
    }
   ],
   "source": [
    "print(matrix.zeros((3,3)))"
   ]
  },
  {
   "cell_type": "code",
   "execution_count": 14,
   "id": "e1fbed8f",
   "metadata": {},
   "outputs": [
    {
     "data": {
      "text/plain": [
       "numpy.matrix"
      ]
     },
     "execution_count": 14,
     "metadata": {},
     "output_type": "execute_result"
    }
   ],
   "source": [
    "type(matrix.zeros((3,3)))"
   ]
  },
  {
   "cell_type": "code",
   "execution_count": 15,
   "id": "19fda89d",
   "metadata": {},
   "outputs": [
    {
     "data": {
      "text/plain": [
       "matrix([[1., 0., 0., 0., 0.],\n",
       "        [0., 1., 0., 0., 0.],\n",
       "        [0., 0., 1., 0., 0.]])"
      ]
     },
     "execution_count": 15,
     "metadata": {},
     "output_type": "execute_result"
    }
   ],
   "source": [
    "matrix.eye(3,5)"
   ]
  },
  {
   "cell_type": "code",
   "execution_count": 16,
   "id": "a405f068",
   "metadata": {},
   "outputs": [
    {
     "data": {
      "text/plain": [
       "matrix([[1., 0., 0., 0., 0., 0.],\n",
       "        [0., 1., 0., 0., 0., 0.],\n",
       "        [0., 0., 1., 0., 0., 0.],\n",
       "        [0., 0., 0., 1., 0., 0.],\n",
       "        [0., 0., 0., 0., 1., 0.],\n",
       "        [0., 0., 0., 0., 0., 1.]])"
      ]
     },
     "execution_count": 16,
     "metadata": {},
     "output_type": "execute_result"
    }
   ],
   "source": [
    "matrix.identity((6))"
   ]
  },
  {
   "cell_type": "code",
   "execution_count": 17,
   "id": "7ee7a528",
   "metadata": {},
   "outputs": [
    {
     "data": {
      "text/plain": [
       "matrix([[1., 1., 1.],\n",
       "        [1., 1., 1.],\n",
       "        [1., 1., 1.]])"
      ]
     },
     "execution_count": 17,
     "metadata": {},
     "output_type": "execute_result"
    }
   ],
   "source": [
    "matrix.ones((3,3))"
   ]
  },
  {
   "cell_type": "code",
   "execution_count": 18,
   "id": "23069b73",
   "metadata": {},
   "outputs": [],
   "source": [
    "# Linear algebra\n",
    "\n",
    "# arr1=np.random.randint(1,5,(4,5))\n",
    "# arr2=np.random.randint(1,5,(4,5))\n",
    "\n",
    "#or\n",
    "arr1=np.random.randint([[1,3],[4,6]]) # It will generate the array same as [[1,3],[4,6]] but with diff elements\n",
    "\n",
    "arr2=np.random.randint([[1,3],[4,6]])"
   ]
  },
  {
   "cell_type": "code",
   "execution_count": 19,
   "id": "681f1d36",
   "metadata": {},
   "outputs": [
    {
     "name": "stdout",
     "output_type": "stream",
     "text": [
      "arr1:\n",
      " [[0 0]\n",
      " [2 4]]\n",
      "\n",
      "arr2:\n",
      " [[0 1]\n",
      " [0 5]]\n"
     ]
    }
   ],
   "source": [
    "print(\"arr1:\\n\",arr1)\n",
    "print()\n",
    "print(\"arr2:\\n\",arr2)"
   ]
  },
  {
   "cell_type": "code",
   "execution_count": 20,
   "id": "3270a319",
   "metadata": {},
   "outputs": [
    {
     "name": "stdout",
     "output_type": "stream",
     "text": [
      "[[ 0  0]\n",
      " [ 0 22]]\n"
     ]
    }
   ],
   "source": [
    "print(np.dot(arr1,arr2)) # dot product"
   ]
  },
  {
   "cell_type": "code",
   "execution_count": 21,
   "id": "edd34b63",
   "metadata": {},
   "outputs": [
    {
     "data": {
      "text/plain": [
       "array([[ 0,  0],\n",
       "       [ 0, 22]])"
      ]
     },
     "execution_count": 21,
     "metadata": {},
     "output_type": "execute_result"
    }
   ],
   "source": [
    "arr1@arr2 # dot product max same as matrix multiplication"
   ]
  },
  {
   "cell_type": "code",
   "execution_count": 22,
   "id": "96a53331",
   "metadata": {},
   "outputs": [],
   "source": [
    "# will preapre another notebook for linear algebra for all the functions"
   ]
  }
 ],
 "metadata": {
  "kernelspec": {
   "display_name": "Python 3 (ipykernel)",
   "language": "python",
   "name": "python3"
  },
  "language_info": {
   "codemirror_mode": {
    "name": "ipython",
    "version": 3
   },
   "file_extension": ".py",
   "mimetype": "text/x-python",
   "name": "python",
   "nbconvert_exporter": "python",
   "pygments_lexer": "ipython3",
   "version": "3.10.9"
  }
 },
 "nbformat": 4,
 "nbformat_minor": 5
}
