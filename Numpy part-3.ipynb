{
 "cells": [
  {
   "cell_type": "code",
   "execution_count": 1,
   "id": "4775364a",
   "metadata": {},
   "outputs": [],
   "source": [
    "import numpy as np"
   ]
  },
  {
   "cell_type": "code",
   "execution_count": 2,
   "id": "a3ffafb5",
   "metadata": {},
   "outputs": [
    {
     "name": "stdout",
     "output_type": "stream",
     "text": [
      "Array:\n",
      " [[9 6 7 1]\n",
      " [4 4 8 6]\n",
      " [5 5 3 9]\n",
      " [2 7 4 5]]\n"
     ]
    }
   ],
   "source": [
    "# array manipulation\n",
    "\n",
    "arr= np.random.randint(1,10,(4,4))\n",
    "\n",
    "print(\"Array:\\n\",arr)"
   ]
  },
  {
   "cell_type": "code",
   "execution_count": 3,
   "id": "a7e5ff95",
   "metadata": {},
   "outputs": [
    {
     "name": "stdout",
     "output_type": "stream",
     "text": [
      "8 row and 2 col:\n",
      " [[1 8]\n",
      " [5 3]\n",
      " [5 1]\n",
      " [2 8]\n",
      " [8 6]\n",
      " [5 8]\n",
      " [6 4]\n",
      " [6 4]]\n",
      "reshape into 8,2 using -1:\n",
      " [[1 8]\n",
      " [5 3]\n",
      " [5 1]\n",
      " [2 8]\n",
      " [8 6]\n",
      " [5 8]\n",
      " [6 4]\n",
      " [6 4]]\n"
     ]
    }
   ],
   "source": [
    "# Reshaping\n",
    "\n",
    "# we need to match the number opf elements always i,e arr has 4*4 =16 elements\n",
    "\n",
    "arr= np.random.randint(1,10,(4,4))\n",
    "\n",
    "print(\"8 row and 2 col:\\n\",arr.reshape(8,2)) # 8*2 =16 elements --> it is matching with the no.of arr ekements, so it will reshape the arr into 8 row 2 col\n",
    "\n",
    "\n",
    "print(\"reshape into 8,2 using -1:\\n\",arr.reshape(8,-1)) # python automatically take -1 as 2 ( python tries to equal the no..of elements i, e there is one possibility for 8 to make it 16 i,e 2 , so 8*2 --> 8 rows and 2 columns)"
   ]
  },
  {
   "cell_type": "code",
   "execution_count": 4,
   "id": "3c92ed2c",
   "metadata": {},
   "outputs": [
    {
     "name": "stdout",
     "output_type": "stream",
     "text": [
      "[[10 11 12 13 14 15]\n",
      " [16 17 18 19 20 21]\n",
      " [22 23 24 25 26 27]\n",
      " [28 29 30 31 32 33]\n",
      " [34 35 36 37 38 39]]\n",
      "Transposing using .T operator:\n",
      " [[10 16 22 28 34]\n",
      " [11 17 23 29 35]\n",
      " [12 18 24 30 36]\n",
      " [13 19 25 31 37]\n",
      " [14 20 26 32 38]\n",
      " [15 21 27 33 39]]\n",
      "Transposing using transpose() function:\n",
      " [[10 16 22 28 34]\n",
      " [11 17 23 29 35]\n",
      " [12 18 24 30 36]\n",
      " [13 19 25 31 37]\n",
      " [14 20 26 32 38]\n",
      " [15 21 27 33 39]]\n",
      "[[ True  True  True  True  True]\n",
      " [ True  True  True  True  True]\n",
      " [ True  True  True  True  True]\n",
      " [ True  True  True  True  True]\n",
      " [ True  True  True  True  True]\n",
      " [ True  True  True  True  True]]\n",
      "True\n"
     ]
    }
   ],
   "source": [
    "# Trnasposing ( row become column and column become row)\n",
    "\n",
    "arr= np.arange(10,40).reshape(5,6)\n",
    "\n",
    "print(arr)\n",
    "\n",
    "\n",
    "# Transposing the array\n",
    "\n",
    "print(\"Transposing using .T operator:\\n\",arr.T)\n",
    "\n",
    "print(\"Transposing using transpose() function:\\n\", arr.transpose())\n",
    "\n",
    "print(arr.T==arr.transpose()) # checking if every element is same or not\n",
    "\n",
    "print(np.any(arr.T==arr.transpose())) # if all are true then it will return true else will return false."
   ]
  },
  {
   "cell_type": "code",
   "execution_count": 5,
   "id": "9247d8c2",
   "metadata": {},
   "outputs": [
    {
     "name": "stdout",
     "output_type": "stream",
     "text": [
      "[[10 11 12 13 14]\n",
      " [15 16 17 18 19]]\n",
      "flattening the array:\n",
      " [10 11 12 13 14 15 16 17 18 19]\n",
      "[10 11 12 13 14 15 16 17 18 19]\n"
     ]
    }
   ],
   "source": [
    "# flatten\n",
    "\n",
    "arr= np.arange(10,20).reshape(2,5)\n",
    "\n",
    "print(arr)\n",
    "\n",
    "# flatten will create 1D array (1 row) with all the elements \n",
    "\n",
    "print(\"flattening the array:\\n\",arr.flatten())\n",
    "\n",
    "# ravel \n",
    "\n",
    "# ravel will also do the same operation as flatten\n",
    "# Return a contiguous flattened array.\n",
    "\n",
    "# A 1-D array, containing the elements of the input, is returned.  A copy is\n",
    "# made only if needed.\n",
    "\n",
    "print(np.ravel(arr))"
   ]
  },
  {
   "cell_type": "code",
   "execution_count": 6,
   "id": "b7499d17",
   "metadata": {},
   "outputs": [
    {
     "name": "stdout",
     "output_type": "stream",
     "text": [
      "(4,)\n",
      "1\n",
      "expanded array:\n",
      " [[1]\n",
      " [2]\n",
      " [3]\n",
      " [4]]\n",
      "(4, 1)\n",
      "2\n"
     ]
    }
   ],
   "source": [
    "# expand dimensions\n",
    "\n",
    "# if you want to increase the dimension of the array say , if you want to convert 1D array to 2D or anything\n",
    "\n",
    "arr=np.array([1,2,3,4])\n",
    "\n",
    "print(arr.shape)\n",
    "\n",
    "print(arr.ndim) # 1 dimension\n",
    "\n",
    "arr1= np.expand_dims(arr,axis=1)\n",
    "\n",
    "print(\"expanded array:\\n\",arr1)\n",
    "\n",
    "print(arr1.shape)\n",
    "\n",
    "print(arr1.ndim)  # expanded the dimension to 2"
   ]
  },
  {
   "cell_type": "code",
   "execution_count": 7,
   "id": "d68465a5",
   "metadata": {},
   "outputs": [
    {
     "name": "stdout",
     "output_type": "stream",
     "text": [
      "[[1 2 3 4]\n",
      " [5 6 7 8]]\n",
      "2\n",
      "3\n",
      "(2, 1, 4)\n",
      "arr1:\n",
      " [[[1 2 3 4]]\n",
      "\n",
      " [[5 6 7 8]]]\n",
      "3\n",
      "(1, 2, 4)\n",
      "arr2:\n",
      " [[[1 2 3 4]\n",
      "  [5 6 7 8]]]\n"
     ]
    }
   ],
   "source": [
    "# we can convert 2D array to 3D array as well\n",
    "\n",
    "arr= np.array([[1,2,3,4],[5,6,7,8]])\n",
    "\n",
    "print(arr)\n",
    "\n",
    "print(arr.ndim)\n",
    "\n",
    "arr1=np.expand_dims(arr,axis=1) # axis=1 represents expand dims column wise \n",
    "\n",
    "print(arr1.ndim) # the dimension is increased to 3\n",
    "\n",
    "print(arr1.shape)\n",
    "\n",
    "print(\"arr1:\\n\",arr1)\n",
    "\n",
    "arr2=np.expand_dims(arr,axis=0)# axis=0 represents expand dims row wise\n",
    "\n",
    "print(arr2.ndim) # the dimension is increased to 3\n",
    "\n",
    "print(arr2.shape)\n",
    "\n",
    "print(\"arr2:\\n\",arr2)"
   ]
  },
  {
   "cell_type": "code",
   "execution_count": 8,
   "id": "a1a9de8a",
   "metadata": {},
   "outputs": [
    {
     "name": "stdout",
     "output_type": "stream",
     "text": [
      "[1 2 3 4 5] (5,) 1\n",
      "[[1]\n",
      " [2]\n",
      " [3]\n",
      " [4]\n",
      " [5]] (5, 1) 2\n",
      "[[1 2 3 4 5]] (1, 5) 2\n"
     ]
    }
   ],
   "source": [
    "arr=np.array([1,2,3,4,5])\n",
    "\n",
    "print(arr, arr.shape, arr.ndim)\n",
    "\n",
    "arr1=np.expand_dims(arr,axis=1)# axis=1 represents expand dims column wise\n",
    "\n",
    "print(arr1, arr1.shape, arr1.ndim)\n",
    "\n",
    "arr2=np.expand_dims(arr,axis=0) # axis=0 represents expand dims row wise\n",
    "\n",
    "print(arr2, arr2.shape, arr2.ndim)"
   ]
  },
  {
   "cell_type": "code",
   "execution_count": 9,
   "id": "56a74cba",
   "metadata": {},
   "outputs": [
    {
     "name": "stdout",
     "output_type": "stream",
     "text": [
      "[1 2 3]\n",
      "[1 2 3 4 5 6]\n"
     ]
    }
   ],
   "source": [
    "# squeeze\n",
    "\n",
    "# np.squeeze(a, axis=None)\n",
    "\n",
    "# It will make the array into 1D array\n",
    "\n",
    "data=np.array([[1],[2],[3]])\n",
    "\n",
    "print(np.squeeze(data,axis=1)) # axis=1 , making column array as 1D array \n",
    "\n",
    "data=np.array([[1,2,3,4,5,6]])\n",
    "\n",
    "print(np.squeeze(data,axis=0)) # axis=0,  making row array as 1D array "
   ]
  },
  {
   "cell_type": "code",
   "execution_count": 10,
   "id": "95099db0",
   "metadata": {},
   "outputs": [
    {
     "name": "stdout",
     "output_type": "stream",
     "text": [
      "[[1 1]\n",
      " [2 2]\n",
      " [3 3]]\n",
      "[[1]\n",
      " [1]\n",
      " [2]\n",
      " [2]\n",
      " [3]\n",
      " [3]]\n",
      "[[1 2 3 4 5 6]\n",
      " [1 2 3 4 5 6]]\n",
      "[[1 2 3 4 5 6]\n",
      " [1 2 3 4 5 6]\n",
      " [1 2 3 4 5 6]\n",
      " [1 2 3 4 5 6]]\n",
      "[[1 1 2 2 3 3 4 4 5 5 6 6]]\n"
     ]
    }
   ],
   "source": [
    "# repeat\n",
    "# Repeat each element of an array after themselves\n",
    "\n",
    "data=np.array([[1],[2],[3]])\n",
    "\n",
    "print(np.repeat(data,2,axis=1)) # repeat the data column wise\n",
    "\n",
    "# [[1 1]\n",
    "#  [2 2]\n",
    "#  [3 3]]\n",
    "\n",
    "data=np.array([[1],[2],[3]])\n",
    "\n",
    "print(np.repeat(data,2,axis=0)) # repeat the data row wise\n",
    "\n",
    "# [[1]\n",
    "#  [1]\n",
    "#  [2]\n",
    "#  [2]\n",
    "#  [3]\n",
    "#  [3]]\n",
    "\n",
    "data=np.array([[1,2,3,4,5,6]])\n",
    "\n",
    "print(np.repeat(data,2,axis=0))\n",
    "\n",
    "# [[1 2 3 4 5 6]\n",
    "#  [1 2 3 4 5 6]]\n",
    "\n",
    "print(np.repeat(data,4,axis=0))\n",
    "\n",
    "# [[1 2 3 4 5 6]\n",
    "#  [1 2 3 4 5 6]\n",
    "#  [1 2 3 4 5 6]\n",
    "#  [1 2 3 4 5 6]]\n",
    "\n",
    "data=np.array([[1,2,3,4,5,6]])\n",
    "\n",
    "print(np.repeat(data,2,axis=1))\n",
    "\n",
    "# [[1 1 2 2 3 3 4 4 5 5 6 6]]"
   ]
  },
  {
   "cell_type": "code",
   "execution_count": 11,
   "id": "a46849ee",
   "metadata": {},
   "outputs": [
    {
     "name": "stdout",
     "output_type": "stream",
     "text": [
      "[[22]\n",
      " [33]\n",
      " [11]]\n",
      "[[22 33 11]]\n",
      "[[ 11  22  33  44]\n",
      " [ 55  66  77  88]\n",
      " [ 99 111 222 333]\n",
      " [444 555 666 777]]\n",
      "[[ 99 111 222 333]\n",
      " [444 555 666 777]\n",
      " [ 11  22  33  44]\n",
      " [ 55  66  77  88]]\n",
      "[[ 33  44  11  22]\n",
      " [ 77  88  55  66]\n",
      " [222 333  99 111]\n",
      " [666 777 444 555]]\n"
     ]
    }
   ],
   "source": [
    "# roll\n",
    "\n",
    "# Roll array elements along a given axis.\n",
    "\n",
    "# Elements that roll beyond the last position are re-introduced at\n",
    "# the first.\n",
    "\n",
    "data=np.array([[11],[22],[33]])\n",
    "\n",
    "print(np.roll(data,2))\n",
    "\n",
    "# [[22]\n",
    "#  [33]\n",
    "#  [11]]\n",
    "\n",
    "# Here the data will roll 2 steps. i,e 11 is at 0th position , so after 2 times roll it will be in 2nd position similarly\n",
    "# 22 is in 1st index and if we roll 2 times then it will be in 1st index , 33 is in 2nd index so after 2 steps it will be in 2nd index\n",
    "\n",
    "data=np.array([[11,22,33]])\n",
    "\n",
    "print(np.roll(data,2))\n",
    "\n",
    "# [[22 33 11]]\n",
    "\n",
    "# Rolling according to the axis\n",
    "\n",
    "data= np.array([[11,22,33,44],[55,66,77,88],[99,111,222,333],[444,555,666,777]])\n",
    "\n",
    "print(data)\n",
    "\n",
    "# [[ 11  22  33  44]\n",
    "#  [ 55  66  77  88]\n",
    "#  [ 99 111 222 333]\n",
    "#  [444 555 666 777]]\n",
    "\n",
    "print(np.roll(data,2,axis=0)) # axis=0 represents row\n",
    "\n",
    "# [[ 99 111 222 333]\n",
    "#  [444 555 666 777]\n",
    "#  [ 11  22  33  44]\n",
    "#  [ 55  66  77  88]]\n",
    "\n",
    "# as we specified axis=0 , it will concentrate on row data, 1st element of every row [11,55,99,444] , 11 at 0th index so after\n",
    "# 2 steps the new index will be 2nd index , 55 at 1st index so after 2 steps it will be at 3rd index.\n",
    "\n",
    "print(np.roll(data,2,axis=1)) # axis=1 represents column wise row\n",
    "\n",
    "# [[ 33  44  11  22]\n",
    "#  [ 77  88  55  66]\n",
    "#  [222 333  99 111]\n",
    "#  [666 777 444 555]]\n",
    "\n",
    "# as we specified axis=0, now we need to consider first value of every column and roll the elements to the specified steps (here it is 2)"
   ]
  },
  {
   "cell_type": "code",
   "execution_count": 12,
   "id": "5f9654ae",
   "metadata": {},
   "outputs": [
    {
     "name": "stdout",
     "output_type": "stream",
     "text": [
      "[[11  0  0  0]\n",
      " [ 0 22  0  0]\n",
      " [ 0  0 33  0]\n",
      " [ 0  0  0 44]]\n"
     ]
    }
   ],
   "source": [
    "# Creating the array with the specified diagonal elements\n",
    "\n",
    "arr=np.array([11,22,33,44])\n",
    "\n",
    "print(np.diag(arr))"
   ]
  },
  {
   "cell_type": "code",
   "execution_count": 13,
   "id": "3b54a22c",
   "metadata": {},
   "outputs": [
    {
     "name": "stdout",
     "output_type": "stream",
     "text": [
      "arr1:\n",
      " [[4 5 8 1]\n",
      " [1 7 2 7]\n",
      " [1 2 4 2]]\n",
      "\n",
      "arr2:\n",
      " [[5 9 3 7]\n",
      " [7 6 6 6]\n",
      " [1 6 6 6]]\n"
     ]
    }
   ],
   "source": [
    "# Binary Operators (addition, subtraction, multiplication, division, negation)\n",
    "\n",
    "arr1=np.random.randint(1,10,(3,4))\n",
    "arr2=np.random.randint(1,10,(3,4))\n",
    "\n",
    "print(\"arr1:\\n\",arr1)\n",
    "\n",
    "print()\n",
    "\n",
    "print(\"arr2:\\n\",arr2)"
   ]
  },
  {
   "cell_type": "code",
   "execution_count": 14,
   "id": "c6ea8138",
   "metadata": {},
   "outputs": [
    {
     "name": "stdout",
     "output_type": "stream",
     "text": [
      "[[ 9 14 11  8]\n",
      " [ 8 13  8 13]\n",
      " [ 2  8 10  8]]\n"
     ]
    }
   ],
   "source": [
    "#addition\n",
    "\n",
    "print(arr1+arr2)"
   ]
  },
  {
   "cell_type": "code",
   "execution_count": 15,
   "id": "09798d36",
   "metadata": {},
   "outputs": [
    {
     "name": "stdout",
     "output_type": "stream",
     "text": [
      "[[-1 -4  5 -6]\n",
      " [-6  1 -4  1]\n",
      " [ 0 -4 -2 -4]]\n"
     ]
    }
   ],
   "source": [
    "# subtraction\n",
    "\n",
    "print(arr1-arr2)"
   ]
  },
  {
   "cell_type": "code",
   "execution_count": 16,
   "id": "1ca5800d",
   "metadata": {},
   "outputs": [
    {
     "name": "stdout",
     "output_type": "stream",
     "text": [
      "[[20 45 24  7]\n",
      " [ 7 42 12 42]\n",
      " [ 1 12 24 12]]\n"
     ]
    }
   ],
   "source": [
    "# multiplication\n",
    "\n",
    "print(arr1*arr2)\n",
    "\n",
    "# To perform matrix multiplication the column count of first matrix must match with row count of second matrix"
   ]
  },
  {
   "cell_type": "code",
   "execution_count": 17,
   "id": "c70ab9b1",
   "metadata": {},
   "outputs": [
    {
     "name": "stdout",
     "output_type": "stream",
     "text": [
      "[[0.8        0.55555556 2.66666667 0.14285714]\n",
      " [0.14285714 1.16666667 0.33333333 1.16666667]\n",
      " [1.         0.33333333 0.66666667 0.33333333]]\n"
     ]
    }
   ],
   "source": [
    "# division\n",
    "\n",
    "print(arr1/arr2)"
   ]
  },
  {
   "cell_type": "code",
   "execution_count": 18,
   "id": "6671880a",
   "metadata": {},
   "outputs": [
    {
     "name": "stdout",
     "output_type": "stream",
     "text": [
      "[[-5 -6 -9 -2]\n",
      " [-2 -8 -3 -8]\n",
      " [-2 -3 -5 -3]]\n"
     ]
    }
   ],
   "source": [
    "#negation (Binary negation)\n",
    "\n",
    "print(~arr1)"
   ]
  },
  {
   "cell_type": "code",
   "execution_count": 19,
   "id": "9817c47a",
   "metadata": {},
   "outputs": [
    {
     "name": "stdout",
     "output_type": "stream",
     "text": [
      "[[ -6 -10  -4  -8]\n",
      " [ -8  -7  -7  -7]\n",
      " [ -2  -7  -7  -7]]\n"
     ]
    }
   ],
   "source": [
    "print(~arr2)"
   ]
  },
  {
   "cell_type": "code",
   "execution_count": 20,
   "id": "f6ca59e1",
   "metadata": {},
   "outputs": [
    {
     "name": "stdout",
     "output_type": "stream",
     "text": [
      "[[False False  True False]\n",
      " [False  True False  True]\n",
      " [False False False False]]\n"
     ]
    }
   ],
   "source": [
    "print(arr1>arr2)"
   ]
  },
  {
   "cell_type": "code",
   "execution_count": 21,
   "id": "97798c76",
   "metadata": {},
   "outputs": [
    {
     "name": "stdout",
     "output_type": "stream",
     "text": [
      "['karri' 'nethaji' 'mahendra']\n"
     ]
    }
   ],
   "source": [
    "# Numpy string operations\n",
    "\n",
    "arr= np.array(['karri',\"nethaji\",\"mahendra\"])\n",
    "\n",
    "print(arr)"
   ]
  },
  {
   "cell_type": "code",
   "execution_count": 22,
   "id": "515f71af",
   "metadata": {},
   "outputs": [
    {
     "name": "stdout",
     "output_type": "stream",
     "text": [
      "['KARRI' 'NETHAJI' 'MAHENDRA']\n"
     ]
    }
   ],
   "source": [
    "# Converting the string data into upper case\n",
    "\n",
    "print(np.char.upper(arr))"
   ]
  },
  {
   "cell_type": "code",
   "execution_count": 23,
   "id": "2b34b033",
   "metadata": {},
   "outputs": [
    {
     "name": "stdout",
     "output_type": "stream",
     "text": [
      "['Karri' 'Nethaji' 'Mahendra']\n"
     ]
    }
   ],
   "source": [
    "# capitalize the data\n",
    "\n",
    "print(np.char.capitalize(arr))"
   ]
  },
  {
   "cell_type": "code",
   "execution_count": 24,
   "id": "229412b5",
   "metadata": {},
   "outputs": [],
   "source": [
    "# all string functions like title, zfill, isaplha, isalnum etc., are available under np.char"
   ]
  },
  {
   "cell_type": "code",
   "execution_count": 25,
   "id": "f733ed33",
   "metadata": {},
   "outputs": [
    {
     "name": "stdout",
     "output_type": "stream",
     "text": [
      "Sin data:\n",
      " [[ 0.6569866   0.14112001  0.14112001  0.90929743]\n",
      " [-0.2794155  -0.7568025   0.84147098  0.84147098]\n",
      " [ 0.6569866  -0.95892427 -0.7568025   0.90929743]]\n",
      "\n",
      "Cos data:\n",
      " [[ 0.75390225 -0.9899925  -0.9899925  -0.41614684]\n",
      " [ 0.96017029 -0.65364362  0.54030231  0.54030231]\n",
      " [ 0.75390225  0.28366219 -0.65364362 -0.41614684]]\n",
      "\n",
      "Tan data:\n",
      " [[ 0.87144798 -0.14254654 -0.14254654 -2.18503986]\n",
      " [-0.29100619  1.15782128  1.55740772  1.55740772]\n",
      " [ 0.87144798 -3.38051501  1.15782128 -2.18503986]]\n"
     ]
    }
   ],
   "source": [
    "# sin and cosine functions\n",
    "\n",
    "arr1=np.random.randint(1,10,(3,4))\n",
    "\n",
    "#sin function\n",
    "\n",
    "print(\"Sin data:\\n\",np.sin(arr1))\n",
    "print()\n",
    "\n",
    "# cos function\n",
    "\n",
    "print(\"Cos data:\\n\",np.cos(arr1))\n",
    "print()\n",
    "\n",
    "\n",
    "\n",
    "#tan function\n",
    "\n",
    "print(\"Tan data:\\n\",np.tan(arr1))\n",
    "\n"
   ]
  },
  {
   "cell_type": "code",
   "execution_count": 26,
   "id": "f549acee",
   "metadata": {},
   "outputs": [
    {
     "name": "stdout",
     "output_type": "stream",
     "text": [
      "[[0.84509804 0.47712125 0.47712125 0.30103   ]\n",
      " [0.77815125 0.60205999 0.         0.        ]\n",
      " [0.84509804 0.69897    0.60205999 0.30103   ]]\n"
     ]
    }
   ],
   "source": [
    "#log10 --> log to the base 10 function\n",
    "\n",
    "print(np.log10(arr1))"
   ]
  },
  {
   "cell_type": "code",
   "execution_count": 27,
   "id": "553c3ff0",
   "metadata": {},
   "outputs": [
    {
     "name": "stdout",
     "output_type": "stream",
     "text": [
      "[[1096.63315843   20.08553692   20.08553692    7.3890561 ]\n",
      " [ 403.42879349   54.59815003    2.71828183    2.71828183]\n",
      " [1096.63315843  148.4131591    54.59815003    7.3890561 ]]\n"
     ]
    }
   ],
   "source": [
    "# exponential data\n",
    "\n",
    "print(np.exp(arr1))"
   ]
  },
  {
   "cell_type": "code",
   "execution_count": 28,
   "id": "e92062bf",
   "metadata": {},
   "outputs": [
    {
     "name": "stdout",
     "output_type": "stream",
     "text": [
      "arr1:\n",
      " [[7 3 3 2]\n",
      " [6 4 1 1]\n",
      " [7 5 4 2]]\n",
      "[[49  9  9  4]\n",
      " [36 16  1  1]\n",
      " [49 25 16  4]]\n"
     ]
    }
   ],
   "source": [
    "# power\n",
    "\n",
    "print(\"arr1:\\n\",arr1)\n",
    "\n",
    "print(np.power(arr1,2))"
   ]
  },
  {
   "cell_type": "code",
   "execution_count": 29,
   "id": "b27121cb",
   "metadata": {
    "scrolled": true
   },
   "outputs": [
    {
     "name": "stdout",
     "output_type": "stream",
     "text": [
      "array:\n",
      " [[2 3 4 5]\n",
      " [6 7 8 9]]\n",
      "5.5\n",
      "5.5\n",
      "[4. 5. 6. 7.]\n",
      "[3.5 7.5]\n"
     ]
    }
   ],
   "source": [
    "# mean\n",
    "\n",
    "arr= np.array([[2,3,4,5],[6,7,8,9]])\n",
    "\n",
    "print(\"array:\\n\",arr)\n",
    "\n",
    "#  [[2 3 4 5]\n",
    "#  [6 7 8 9]]\n",
    "\n",
    "# mean\n",
    "\n",
    "print(np.mean(arr)) # It will provide the mean for all the elements\n",
    "\n",
    "#or\n",
    "\n",
    "print(np.sum(arr)/arr.size)\n",
    "\n",
    "# if you want to find mean along the axis then\n",
    "\n",
    "print(np.mean(arr,axis=0)) # axis-0 along with the row\n",
    "\n",
    "# [4. 5. 6. 7.]\n",
    "\n",
    "# first element of every row ( 2 rows) is [2 and 6] mean of 2 and 6 is 4. second element of every row is 3 and 7, \n",
    "# the mean of 3 and 7 is 5.\n",
    "\n",
    "print(np.mean(arr,axis=1)) # axis=1 along with the columns\n",
    "\n",
    "# [3.5 7.5]\n",
    "\n",
    "# every element from first column 2,3,4,5 --> 2+3+4+5/4 --> 14/4 --> 3.5\n",
    "# every element from second column 6,7,8,9 --> 6+7+8+9/4 --> 30/4 -->7.5"
   ]
  },
  {
   "cell_type": "code",
   "execution_count": 30,
   "id": "d9f62f3c",
   "metadata": {
    "scrolled": true
   },
   "outputs": [
    {
     "name": "stdout",
     "output_type": "stream",
     "text": [
      "[[ 2  3  4  5]\n",
      " [ 6  7  8  9]\n",
      " [10 11 12 13]]\n",
      "7.5\n",
      "[6. 7. 8. 9.]\n",
      "[ 3.5  7.5 11.5]\n"
     ]
    }
   ],
   "source": [
    "# median\n",
    "\n",
    "arr= np.array([[2,3,4,5],[6,7,8,9],[10,11,12,13]])\n",
    "\n",
    "print(arr)\n",
    "\n",
    "# [[ 2  3  4  5]\n",
    "#  [ 6  7  8  9]\n",
    "#  [10 11 12 13]]\n",
    "\n",
    "print(np.median(arr))\n",
    "\n",
    "# 7.5\n",
    "\n",
    "print(np.median(arr,axis=0))\n",
    "\n",
    "# [6. 7. 8. 9.]\n",
    "\n",
    "print(np.median(arr,axis=1))\n",
    "\n",
    "# [ 3.5  7.5 11.5]"
   ]
  },
  {
   "cell_type": "code",
   "execution_count": 31,
   "id": "f1da9ad4",
   "metadata": {},
   "outputs": [
    {
     "name": "stdout",
     "output_type": "stream",
     "text": [
      "[[11 12 14 14]\n",
      " [11 22 22 44]\n",
      " [10 12 10 56]]\n",
      "[[1 0 0 0]\n",
      " [1 0 0 0]\n",
      " [0 0 0 0]]\n"
     ]
    }
   ],
   "source": [
    "# modules\n",
    "\n",
    "arr=np.array([[11,12,14,14],[11,22,22,44],[10,12,10,56]])\n",
    "\n",
    "print(arr)\n",
    "\n",
    "# [[11 12 14 14]\n",
    "#  [11 22 22 44]\n",
    "#  [10 12 10 56]]\n",
    "\n",
    "print(np.mod(arr,2)) # every element will be checked as x%2 and in the result array we will get the remainders\n",
    "\n",
    "# [[1 0 0 0]\n",
    "#  [1 0 0 0]\n",
    "#  [0 0 0 0]]"
   ]
  },
  {
   "cell_type": "code",
   "execution_count": 32,
   "id": "e7180620",
   "metadata": {
    "scrolled": false
   },
   "outputs": [
    {
     "name": "stdout",
     "output_type": "stream",
     "text": [
      "[[ 2  3  4  5]\n",
      " [ 6  7  8  9]\n",
      " [10 11 12 13]]\n",
      "3.452052529534663\n",
      "[3.26598632 3.26598632 3.26598632 3.26598632]\n",
      "[1.11803399 1.11803399 1.11803399]\n"
     ]
    }
   ],
   "source": [
    "# standard deviation\n",
    "\n",
    "arr= np.array([[2,3,4,5],[6,7,8,9],[10,11,12,13]])\n",
    "\n",
    "print(arr)\n",
    "\n",
    "# [[ 2  3  4  5]\n",
    "#  [ 6  7  8  9]\n",
    "#  [10 11 12 13]]\n",
    "\n",
    "print(np.std(arr)) # standard deviation for whole data\n",
    "\n",
    "# 3.452052529534663\n",
    "\n",
    "print(np.std(arr,axis=0)) # standard deviation for axis=0 (first element of every row will be considered)\n",
    "\n",
    "# [3.26598632 3.26598632 3.26598632 3.26598632]\n",
    "\n",
    "print(np.std(arr,axis=1)) # standard deviation for axis=1 (first element of every column will be considered)\n",
    "\n",
    "# [1.11803399 1.11803399 1.11803399]"
   ]
  },
  {
   "cell_type": "code",
   "execution_count": 33,
   "id": "936051f5",
   "metadata": {},
   "outputs": [
    {
     "name": "stdout",
     "output_type": "stream",
     "text": [
      "[[ 2  3  4  5]\n",
      " [ 6  7  8  9]\n",
      " [10 11 12 13]]\n",
      "11.916666666666666\n",
      "[10.66666667 10.66666667 10.66666667 10.66666667]\n",
      "[1.25 1.25 1.25]\n"
     ]
    }
   ],
   "source": [
    "# variance\n",
    "\n",
    "arr= np.array([[2,3,4,5],[6,7,8,9],[10,11,12,13]])\n",
    "\n",
    "print(arr)\n",
    "\n",
    "# [[ 2  3  4  5]\n",
    "#  [ 6  7  8  9]\n",
    "#  [10 11 12 13]]\n",
    "\n",
    "print(np.var(arr))\n",
    "\n",
    "# 11.916666666666666\n",
    "\n",
    "print(np.var(arr,axis=0))\n",
    "\n",
    "# [10.66666667 10.66666667 10.66666667 10.66666667]\n",
    "\n",
    "print(np.var(arr,axis=1))\n",
    "\n",
    "# [1.25 1.25 1.25]"
   ]
  },
  {
   "cell_type": "code",
   "execution_count": 34,
   "id": "3cb51ed7",
   "metadata": {},
   "outputs": [
    {
     "name": "stdout",
     "output_type": "stream",
     "text": [
      "[[12 33 45]\n",
      " [10 54 90]\n",
      " [ 2 89 38]]\n",
      "90\n",
      "[12 89 90]\n",
      "[45 90 89]\n"
     ]
    }
   ],
   "source": [
    "# finding max element of array\n",
    "\n",
    "arr=np.array([[12,33,45],[10,54,90],[2,89,38]])\n",
    "\n",
    "print(arr)\n",
    "\n",
    "# [[12 33 45]\n",
    "#  [10 54 90]\n",
    "#  [ 2 89 38]]\n",
    "\n",
    "print(np.max(arr))\n",
    "\n",
    "#90\n",
    "\n",
    "print(np.max(arr,axis=0))\n",
    "\n",
    "# [12 89 90]\n",
    "\n",
    "print(np.max(arr,axis=1))\n",
    "\n",
    "# [45 90 89]"
   ]
  },
  {
   "cell_type": "code",
   "execution_count": 35,
   "id": "416826ce",
   "metadata": {},
   "outputs": [
    {
     "name": "stdout",
     "output_type": "stream",
     "text": [
      "[[12 33 45]\n",
      " [10 54 90]\n",
      " [ 2 89 38]]\n",
      "2\n",
      "[ 2 33 38]\n",
      "[12 10  2]\n"
     ]
    }
   ],
   "source": [
    "# finding min element of array\n",
    "\n",
    "arr=np.array([[12,33,45],[10,54,90],[2,89,38]])\n",
    "\n",
    "print(arr)\n",
    "\n",
    "# [[12 33 45]\n",
    "#  [10 54 90]\n",
    "#  [ 2 89 38]]\n",
    "\n",
    "print(np.min(arr))\n",
    "\n",
    "# 2\n",
    "\n",
    "print(np.min(arr,axis=0))\n",
    "\n",
    "# [ 2 33 38]\n",
    "\n",
    "print(np.min(arr,axis=1))\n",
    "\n",
    "# [12 10  2]"
   ]
  },
  {
   "cell_type": "code",
   "execution_count": 36,
   "id": "8e00e3db",
   "metadata": {},
   "outputs": [
    {
     "name": "stdout",
     "output_type": "stream",
     "text": [
      "Addition:\n",
      " [[5 6 4]\n",
      " [4 5 5]\n",
      " [5 4 6]]\n",
      "Addition using numpy:\n",
      " [[5 6 4]\n",
      " [4 5 5]\n",
      " [5 4 6]]\n"
     ]
    }
   ],
   "source": [
    "# Numpy arithmatic operations\n",
    "\n",
    "arr1= np.random.randint(1,5,(3,3))\n",
    "arr2= np.random.randint(1,5,(3,3))\n",
    "\n",
    "# we add the arrays as arr1 and arr2 \n",
    "\n",
    "print(\"Addition:\\n\",arr1+arr2)\n",
    "\n",
    "# we can do the same operation using numpy package\n",
    "\n",
    "print(\"Addition using numpy:\\n\",np.add(arr1,arr2))"
   ]
  },
  {
   "cell_type": "code",
   "execution_count": 37,
   "id": "6f630ce1",
   "metadata": {},
   "outputs": [
    {
     "name": "stdout",
     "output_type": "stream",
     "text": [
      "Subtract:\n",
      " [[-1  0  2]\n",
      " [ 2 -1 -3]\n",
      " [ 3  2 -2]]\n",
      "subtraction using numpy:\n",
      " [[-1  0  2]\n",
      " [ 2 -1 -3]\n",
      " [ 3  2 -2]]\n"
     ]
    }
   ],
   "source": [
    "# we can subtract the arrays as arr1-arr2 \n",
    "\n",
    "print(\"Subtract:\\n\",arr1-arr2)\n",
    "\n",
    "# we can do the same operation using numpy package\n",
    "\n",
    "print(\"subtraction using numpy:\\n\",np.subtract(arr1,arr2))"
   ]
  },
  {
   "cell_type": "code",
   "execution_count": 38,
   "id": "80982457",
   "metadata": {},
   "outputs": [
    {
     "name": "stdout",
     "output_type": "stream",
     "text": [
      "Multiply:\n",
      " [[6 9 3]\n",
      " [3 6 4]\n",
      " [4 3 8]]\n",
      "Multiplication using numpy:\n",
      " [[6 9 3]\n",
      " [3 6 4]\n",
      " [4 3 8]]\n"
     ]
    }
   ],
   "source": [
    "# we can multiply the arrays as arr1*arr2 \n",
    "\n",
    "print(\"Multiply:\\n\",arr1*arr2)\n",
    "\n",
    "# we can do the same operation using numpy package\n",
    "\n",
    "print(\"Multiplication using numpy:\\n\",np.multiply(arr1,arr2))"
   ]
  },
  {
   "cell_type": "code",
   "execution_count": 39,
   "id": "b75da7d7",
   "metadata": {},
   "outputs": [
    {
     "name": "stdout",
     "output_type": "stream",
     "text": [
      "Division:\n",
      " [[0.66666667 1.         3.        ]\n",
      " [3.         0.66666667 0.25      ]\n",
      " [4.         3.         0.5       ]]\n",
      "Division using numpy:\n",
      " [[0.66666667 1.         3.        ]\n",
      " [3.         0.66666667 0.25      ]\n",
      " [4.         3.         0.5       ]]\n"
     ]
    }
   ],
   "source": [
    "# we can do division of the arrays as arr1/arr2 \n",
    "\n",
    "print(\"Division:\\n\",arr1/arr2)\n",
    "\n",
    "# we can do the same operation using numpy package\n",
    "\n",
    "print(\"Division using numpy:\\n\",np.divide(arr1,arr2))"
   ]
  },
  {
   "cell_type": "code",
   "execution_count": 40,
   "id": "065522f6",
   "metadata": {},
   "outputs": [
    {
     "name": "stdout",
     "output_type": "stream",
     "text": [
      "Modules:\n",
      " [[2 0 0]\n",
      " [0 2 1]\n",
      " [0 0 2]]\n",
      "Modules using numpy:\n",
      " [[2 0 0]\n",
      " [0 2 1]\n",
      " [0 0 2]]\n"
     ]
    }
   ],
   "source": [
    "# we can do modulus of the arrays as arr1%arr2 \n",
    "\n",
    "print(\"Modules:\\n\",arr1%arr2)\n",
    "\n",
    "# we can do the same operation using numpy package\n",
    "\n",
    "print(\"Modules using numpy:\\n\",np.mod(arr1,arr2))"
   ]
  },
  {
   "cell_type": "code",
   "execution_count": 41,
   "id": "358ae14f",
   "metadata": {},
   "outputs": [
    {
     "name": "stdout",
     "output_type": "stream",
     "text": [
      "Power:\n",
      " [[ 8 27  3]\n",
      " [ 3  8  1]\n",
      " [ 4  3 16]]\n",
      "Power using numpy:\n",
      " [[ 8 27  3]\n",
      " [ 3  8  1]\n",
      " [ 4  3 16]]\n"
     ]
    }
   ],
   "source": [
    "# we can do power of the arrays as arr1**arr2 \n",
    "\n",
    "print(\"Power:\\n\",arr1**arr2)\n",
    "\n",
    "# we can do the same operation using numpy package\n",
    "\n",
    "print(\"Power using numpy:\\n\",np.power(arr1,arr2))"
   ]
  }
 ],
 "metadata": {
  "kernelspec": {
   "display_name": "Python 3 (ipykernel)",
   "language": "python",
   "name": "python3"
  },
  "language_info": {
   "codemirror_mode": {
    "name": "ipython",
    "version": 3
   },
   "file_extension": ".py",
   "mimetype": "text/x-python",
   "name": "python",
   "nbconvert_exporter": "python",
   "pygments_lexer": "ipython3",
   "version": "3.10.9"
  }
 },
 "nbformat": 4,
 "nbformat_minor": 5
}
