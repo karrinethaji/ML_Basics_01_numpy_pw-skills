{
 "cells": [
  {
   "cell_type": "code",
   "execution_count": 1,
   "id": "73097521",
   "metadata": {},
   "outputs": [],
   "source": [
    "import numpy as np"
   ]
  },
  {
   "cell_type": "code",
   "execution_count": 2,
   "id": "5debb12e",
   "metadata": {},
   "outputs": [
    {
     "ename": "TypeError",
     "evalue": "'float' object cannot be interpreted as an integer",
     "output_type": "error",
     "traceback": [
      "\u001b[1;31m---------------------------------------------------------------------------\u001b[0m",
      "\u001b[1;31mTypeError\u001b[0m                                 Traceback (most recent call last)",
      "Cell \u001b[1;32mIn[2], line 5\u001b[0m\n\u001b[0;32m      1\u001b[0m \u001b[38;5;28mlist\u001b[39m(\u001b[38;5;28mrange\u001b[39m(\u001b[38;5;241m0\u001b[39m,\u001b[38;5;241m5\u001b[39m)) \n\u001b[0;32m      3\u001b[0m \u001b[38;5;66;03m# If we want to create the list of 5 numbers starting from 0, then we create like this and in arrays we use function np.arange()\u001b[39;00m\n\u001b[1;32m----> 5\u001b[0m \u001b[38;5;28mlist\u001b[39m(\u001b[38;5;28;43mrange\u001b[39;49m\u001b[43m(\u001b[49m\u001b[38;5;241;43m0.5\u001b[39;49m\u001b[43m,\u001b[49m\u001b[38;5;241;43m1.0\u001b[39;49m\u001b[43m)\u001b[49m)\n",
      "\u001b[1;31mTypeError\u001b[0m: 'float' object cannot be interpreted as an integer"
     ]
    }
   ],
   "source": [
    "list(range(0,5)) \n",
    "\n",
    "# If we want to create the list of 5 numbers starting from 0, then we create like this and in arrays we use function np.arange()\n",
    "\n",
    "list(range(0.5,1.0)) # using range function we can't generate the list using float values."
   ]
  },
  {
   "cell_type": "code",
   "execution_count": 3,
   "id": "4924a816",
   "metadata": {
    "scrolled": true
   },
   "outputs": [
    {
     "name": "stdout",
     "output_type": "stream",
     "text": [
      "[0 1 2 3 4 5 6 7 8 9]\n",
      "[0 2 4 6 8]\n",
      "[0.1 0.2 0.3 0.4 0.5 0.6 0.7 0.8 0.9 1.  1.1 1.2 1.3 1.4 1.5 1.6 1.7 1.8\n",
      " 1.9 2.  2.1 2.2 2.3 2.4 2.5 2.6 2.7 2.8 2.9 3.  3.1 3.2 3.3 3.4 3.5 3.6\n",
      " 3.7 3.8 3.9 4.  4.1 4.2 4.3 4.4 4.5 4.6 4.7 4.8 4.9 5.  5.1 5.2 5.3 5.4\n",
      " 5.5 5.6 5.7 5.8 5.9 6.  6.1 6.2 6.3 6.4 6.5 6.6 6.7 6.8 6.9 7.  7.1 7.2\n",
      " 7.3 7.4 7.5 7.6 7.7 7.8 7.9 8.  8.1 8.2 8.3 8.4 8.5 8.6 8.7 8.8 8.9 9.\n",
      " 9.1 9.2 9.3 9.4 9.5 9.6 9.7 9.8 9.9]\n",
      "[0.1, 0.2, 0.30000000000000004, 0.4, 0.5, 0.6, 0.7000000000000001, 0.8, 0.9, 1.0, 1.1, 1.2000000000000002, 1.3000000000000003, 1.4000000000000001, 1.5000000000000002, 1.6, 1.7000000000000002, 1.8000000000000003, 1.9000000000000001, 2.0, 2.1, 2.2, 2.3000000000000003, 2.4000000000000004, 2.5000000000000004, 2.6, 2.7, 2.8000000000000003, 2.9000000000000004, 3.0000000000000004, 3.1, 3.2, 3.3000000000000003, 3.4000000000000004, 3.5000000000000004, 3.6, 3.7, 3.8000000000000003, 3.9000000000000004, 4.0, 4.1, 4.2, 4.3, 4.3999999999999995, 4.5, 4.6, 4.7, 4.8, 4.9, 5.0, 5.1, 5.2, 5.3, 5.4, 5.5, 5.6, 5.7, 5.8, 5.9, 6.0, 6.1, 6.2, 6.3, 6.4, 6.5, 6.6, 6.7, 6.8, 6.9, 7.0, 7.1, 7.2, 7.3, 7.4, 7.5, 7.6, 7.7, 7.8, 7.9, 8.0, 8.1, 8.2, 8.3, 8.4, 8.5, 8.6, 8.7, 8.8, 8.9, 9.0, 9.1, 9.2, 9.3, 9.4, 9.5, 9.6, 9.700000000000001, 9.8, 9.9]\n"
     ]
    }
   ],
   "source": [
    "print(np.arange(0,10))#[0 1 2 3 4 5 6 7 8 9] # This will create the array with the range 0 to 5.\n",
    "\n",
    "#arange() function is used to generate the sequence of numbers \n",
    "\n",
    "print(np.arange(0,10,2)) # [0 2 4 6 8]\n",
    "\n",
    "# we can generate the float numbers as well using arange function\n",
    "\n",
    "print(np.arange(0.1,10.0,0.1))\n",
    "\n",
    "# [0.1 0.2 0.3 0.4 0.5 0.6 0.7 0.8 0.9 1.  1.1 1.2 1.3 1.4 1.5 1.6 1.7 1.8\n",
    "#  1.9 2.  2.1 2.2 2.3 2.4 2.5 2.6 2.7 2.8 2.9 3.  3.1 3.2 3.3 3.4 3.5 3.6\n",
    "#  3.7 3.8 3.9 4.  4.1 4.2 4.3 4.4 4.5 4.6 4.7 4.8 4.9 5.  5.1 5.2 5.3 5.4\n",
    "#  5.5 5.6 5.7 5.8 5.9 6.  6.1 6.2 6.3 6.4 6.5 6.6 6.7 6.8 6.9 7.  7.1 7.2\n",
    "#  7.3 7.4 7.5 7.6 7.7 7.8 7.9 8.  8.1 8.2 8.3 8.4 8.5 8.6 8.7 8.8 8.9 9.\n",
    "#  9.1 9.2 9.3 9.4 9.5 9.6 9.7 9.8 9.9]\n",
    "\n",
    "# we can convert the arange array into the list as well using the typecasting\n",
    "\n",
    "print(list(np.arange(0.1,10.0,0.1)))\n",
    "\n",
    "# [0.1, 0.2, 0.30000000000000004, 0.4, 0.5, 0.6, 0.7000000000000001, 0.8, 0.9, 1.0, 1.1, 1.2000000000000002, 1.3000000000000003,\n",
    "# 1.4000000000000001, 1.5000000000000002, 1.6, 1.7000000000000002, 1.8000000000000003, 1.9000000000000001, 2.0, 2.1, 2.2, \n",
    "# 2.3000000000000003, 2.4000000000000004, 2.5000000000000004, 2.6, 2.7, 2.8000000000000003, 2.9000000000000004, 3.0000000000000004,\n",
    "# 3.1, 3.2, 3.3000000000000003, 3.4000000000000004, 3.5000000000000004, 3.6, 3.7, 3.8000000000000003, 3.9000000000000004, 4.0, \n",
    "# 4.1, 4.2, 4.3, 4.3999999999999995, 4.5, 4.6, 4.7, 4.8, 4.9, 5.0, 5.1, 5.2, 5.3, 5.4, 5.5, 5.6, 5.7, 5.8, 5.9, 6.0, 6.1, 6.2, 6.3,\n",
    "# 6.4, 6.5, 6.6, 6.7, 6.8, 6.9, 7.0, 7.1, 7.2, 7.3, 7.4, 7.5, 7.6, 7.7, 7.8, 7.9, 8.0, 8.1, 8.2, 8.3, 8.4, 8.5, 8.6, 8.7, 8.8, 8.9,\n",
    "# 9.0, 9.1, 9.2, 9.3, 9.4, 9.5, 9.6, 9.700000000000001, 9.8, 9.9]"
   ]
  },
  {
   "cell_type": "code",
   "execution_count": 4,
   "id": "67dbefe6",
   "metadata": {},
   "outputs": [
    {
     "name": "stdout",
     "output_type": "stream",
     "text": [
      "[[0 1 2 3 4]\n",
      " [5 6 7 8 9]]\n",
      "[[0 1]\n",
      " [2 3]\n",
      " [4 5]\n",
      " [6 7]\n",
      " [8 9]]\n",
      "[[0 1 2 3 4 5 6 7 8 9]]\n",
      "[[ 0  1  2  3]\n",
      " [ 4  5  6  7]\n",
      " [ 8  9 10 11]] (3, 4)\n",
      "[[[ 0  1  2]\n",
      "  [ 3  4  5]]\n",
      "\n",
      " [[ 6  7  8]\n",
      "  [ 9 10 11]]]\n"
     ]
    }
   ],
   "source": [
    "#reshape\n",
    "\n",
    "# reshape function is used to change the shape of the given array\n",
    "\n",
    "arr=np.arange(0,10) #[0 1 2 3 4 5 6 7 8 9]\n",
    "\n",
    "# If you want to make the above array as 2 rows and 5 columns then you can change (2*5=10 --> size must match with the no.of elements(arr.size))\n",
    "\n",
    "reshape_arr=arr.reshape(2,5)\n",
    "\n",
    "print(reshape_arr)\n",
    "\n",
    "# [[0 1 2 3 4]\n",
    "#  [5 6 7 8 9]]\n",
    "\n",
    "reshape=arr.reshape(5,-1) # here we can provide -1 or any negative number to column so that python understand that \n",
    "                          # it will be 2, according to shape and size of array\n",
    "#reshape=arr.reshape(5,-1000000000000000000000000) # it is also works as above function only (negative value can be anything)\n",
    "print(reshape)\n",
    "\n",
    "# [[0 1]\n",
    "#  [2 3]\n",
    "#  [4 5]\n",
    "#  [6 7]\n",
    "#  [8 9]]\n",
    "\n",
    "reshape=arr.reshape(-1,10) # Here we can provide -1 to rows as well so that python automatically caluculate the row count according to column\n",
    "\n",
    "print(reshape)\n",
    "\n",
    "# [[0 1 2 3 4 5 6 7 8 9]]\n",
    "\n",
    "#******************************************************************************************************************\n",
    "\n",
    "arr= np.arange(0,12).reshape(3,4)\n",
    "\n",
    "print(arr,arr.shape) # shape is (3,4)\n",
    "\n",
    "# [[ 0  1  2  3]\n",
    "#  [ 4  5  6  7]\n",
    "#  [ 8  9 10 11]]\n",
    "\n",
    "reshape= arr.reshape(2,2,3) # It will create the 3D array ( 2*2*3==12 --> matches with the size of array so it worked)\n",
    "\n",
    "print(reshape) \n",
    "\n",
    "# [[[ 0  1  2]\n",
    "#   [ 3  4  5]]\n",
    "\n",
    "#  [[ 6  7  8]\n",
    "#   [ 9 10 11]]]"
   ]
  },
  {
   "cell_type": "code",
   "execution_count": 5,
   "id": "fdae2a15",
   "metadata": {
    "scrolled": true
   },
   "outputs": [
    {
     "name": "stdout",
     "output_type": "stream",
     "text": [
      "[ 0.          0.20408163  0.40816327  0.6122449   0.81632653  1.02040816\n",
      "  1.2244898   1.42857143  1.63265306  1.83673469  2.04081633  2.24489796\n",
      "  2.44897959  2.65306122  2.85714286  3.06122449  3.26530612  3.46938776\n",
      "  3.67346939  3.87755102  4.08163265  4.28571429  4.48979592  4.69387755\n",
      "  4.89795918  5.10204082  5.30612245  5.51020408  5.71428571  5.91836735\n",
      "  6.12244898  6.32653061  6.53061224  6.73469388  6.93877551  7.14285714\n",
      "  7.34693878  7.55102041  7.75510204  7.95918367  8.16326531  8.36734694\n",
      "  8.57142857  8.7755102   8.97959184  9.18367347  9.3877551   9.59183673\n",
      "  9.79591837 10.        ]\n",
      "[ 0.          1.11111111  2.22222222  3.33333333  4.44444444  5.55555556\n",
      "  6.66666667  7.77777778  8.88888889 10.        ]\n",
      "[ 0.  1.  2.  3.  4.  5.  6.  7.  8.  9. 10. 11.]\n"
     ]
    }
   ],
   "source": [
    "# np.linspace() is used to generate the sequence of numbers with the specified limit\n",
    "\n",
    "# syntax: np.linspace(start,end,into how many equal parts you want to divide)\n",
    "# by defaultly the value of \"into how many equal parts you want to divide\" is 50.\n",
    "\n",
    "print(np.linspace(0,10))\n",
    "\n",
    "# Output:\n",
    "    \n",
    "#     array([ 0.        ,  0.20408163,  0.40816327,  0.6122449 ,  0.81632653,\n",
    "#         1.02040816,  1.2244898 ,  1.42857143,  1.63265306,  1.83673469,\n",
    "#         2.04081633,  2.24489796,  2.44897959,  2.65306122,  2.85714286,\n",
    "#         3.06122449,  3.26530612,  3.46938776,  3.67346939,  3.87755102,\n",
    "#         4.08163265,  4.28571429,  4.48979592,  4.69387755,  4.89795918,\n",
    "#         5.10204082,  5.30612245,  5.51020408,  5.71428571,  5.91836735,\n",
    "#         6.12244898,  6.32653061,  6.53061224,  6.73469388,  6.93877551,\n",
    "#         7.14285714,  7.34693878,  7.55102041,  7.75510204,  7.95918367,\n",
    "#         8.16326531,  8.36734694,  8.57142857,  8.7755102 ,  8.97959184,\n",
    "#         9.18367347,  9.3877551 ,  9.59183673,  9.79591837, 10.        ])\n",
    "\n",
    "print(np.linspace(0,10,10)) # Here the values from 0 to 10 will be divided into 10 equal parts\n",
    "\n",
    "# Output:\n",
    "#     [ 0.          1.11111111  2.22222222  3.33333333  4.44444444  5.55555556\n",
    "#   6.66666667  7.77777778  8.88888889 10.        ]\n",
    "\n",
    "print(np.linspace(0,11,12))\n",
    "\n",
    "# [ 0.  1.  2.  3.  4.  5.  6.  7.  8.  9. 10. 11.]"
   ]
  },
  {
   "cell_type": "code",
   "execution_count": 6,
   "id": "f98de20a",
   "metadata": {},
   "outputs": [
    {
     "name": "stdout",
     "output_type": "stream",
     "text": [
      "[1.00000000e+00 1.29154967e+01 1.66810054e+02 2.15443469e+03\n",
      " 2.78255940e+04 3.59381366e+05 4.64158883e+06 5.99484250e+07\n",
      " 7.74263683e+08 1.00000000e+10]\n",
      "[1.00000000e+00 2.16011948e+00 4.66611616e+00 1.00793684e+01\n",
      " 2.17726400e+01 4.70315038e+01 1.01593667e+02 2.19454460e+02\n",
      " 4.74047853e+02 1.02400000e+03]\n",
      "[ 2.          2.72158     3.70349885  5.0396842   6.85795186  9.33223232\n",
      " 12.69920842 17.28095582 23.51575188 32.        ]\n"
     ]
    }
   ],
   "source": [
    "# np.logspace\n",
    "\n",
    "# logspace is used to generate the logarathmic values for the given ranage of values\n",
    "# Return numbers spaced evenly on a log scale.\n",
    "\n",
    "print(np.logspace(0,10,10))  #np.logspace(start,stop,num,base...) # by default base=10 num=50\n",
    "\n",
    "# [1.00000000e+00 1.29154967e+01 1.66810054e+02 2.15443469e+03\n",
    "#  2.78255940e+04 3.59381366e+05 4.64158883e+06 5.99484250e+07\n",
    "#  7.74263683e+08 1.00000000e+10]\n",
    "\n",
    "print(np.logspace(0,10,10,base=2))\n",
    "\n",
    "# [1.00000000e+00 2.16011948e+00 4.66611616e+00 1.00793684e+01\n",
    "#  2.17726400e+01 4.70315038e+01 1.01593667e+02 2.19454460e+02\n",
    "#  4.74047853e+02 1.02400000e+03]\n",
    "\n",
    "print(np.logspace(1,5,10,base=2))\n",
    "\n",
    "# [ 2.          2.72158     3.70349885  5.0396842   6.85795186  9.33223232\n",
    "#  12.69920842 17.28095582 23.51575188 32.        ]"
   ]
  },
  {
   "cell_type": "code",
   "execution_count": 7,
   "id": "1d20418c",
   "metadata": {},
   "outputs": [
    {
     "name": "stdout",
     "output_type": "stream",
     "text": [
      "[0. 0. 0. 0.]\n",
      "[[0. 0. 0. 0. 0. 0.]\n",
      " [0. 0. 0. 0. 0. 0.]\n",
      " [0. 0. 0. 0. 0. 0.]\n",
      " [0. 0. 0. 0. 0. 0.]\n",
      " [0. 0. 0. 0. 0. 0.]]\n",
      "[[0 0 0 0 0 0 0]\n",
      " [0 0 0 0 0 0 0]\n",
      " [0 0 0 0 0 0 0]\n",
      " [0 0 0 0 0 0 0]\n",
      " [0 0 0 0 0 0 0]]\n",
      "[[[0 0 0]\n",
      "  [0 0 0]]\n",
      "\n",
      " [[0 0 0]\n",
      "  [0 0 0]]\n",
      "\n",
      " [[0 0 0]\n",
      "  [0 0 0]]]\n"
     ]
    }
   ],
   "source": [
    "# Generating the array of zeros with the specified rows and columns\n",
    "\n",
    "print(np.zeros(4)) # If columns not specified then it will generate the array of zeros with the specified size\n",
    "\n",
    "# [0. 0. 0. 0.]\n",
    "\n",
    "print(np.zeros((5,6)))\n",
    "\n",
    "# [[0. 0. 0. 0. 0. 0.]\n",
    "#  [0. 0. 0. 0. 0. 0.]\n",
    "#  [0. 0. 0. 0. 0. 0.]\n",
    "#  [0. 0. 0. 0. 0. 0.]\n",
    "#  [0. 0. 0. 0. 0. 0.]]\n",
    "\n",
    "print(np.zeros((5,7),dtype=int)) # we can provide the data type as well\n",
    "\n",
    "# [[0 0 0 0 0 0 0]\n",
    "#  [0 0 0 0 0 0 0]\n",
    "#  [0 0 0 0 0 0 0]\n",
    "#  [0 0 0 0 0 0 0]\n",
    "#  [0 0 0 0 0 0 0]]\n",
    "\n",
    "print(np.zeros((3,2,3),dtype=int)) # It will create the 3 d array with 2 rows and columns \n",
    "\n",
    "# [[[0 0 0]\n",
    "#   [0 0 0]]\n",
    "\n",
    "#  [[0 0 0]\n",
    "#   [0 0 0]]\n",
    "\n",
    "#  [[0 0 0]\n",
    "#   [0 0 0]]]"
   ]
  },
  {
   "cell_type": "code",
   "execution_count": 8,
   "id": "8ebf378a",
   "metadata": {},
   "outputs": [
    {
     "name": "stdout",
     "output_type": "stream",
     "text": [
      "(2, 4)\n",
      "[[0 0 0 0]\n",
      " [0 0 0 0]]\n",
      "(2, 4)\n"
     ]
    }
   ],
   "source": [
    "# zeros_like\n",
    "\n",
    "# np.zeros_like function is used to generate the array of zeros as like a shape of another array\n",
    "\n",
    "arr=np.array([[1,2,3,4],[5,6,7,8]])\n",
    "\n",
    "print(arr.shape) #(2, 4)\n",
    "\n",
    "# If you want to generate the zeros like the arr array then we use np.zeros_like\n",
    "\n",
    "print(np.zeros_like(arr))\n",
    "\n",
    "# [[0 0 0 0]\n",
    "#  [0 0 0 0]]\n",
    "\n",
    "zers_arr=np.zeros_like(arr)\n",
    "\n",
    "print(zers_arr.shape)"
   ]
  },
  {
   "cell_type": "code",
   "execution_count": 9,
   "id": "7009fd2d",
   "metadata": {},
   "outputs": [
    {
     "name": "stdout",
     "output_type": "stream",
     "text": [
      "[[1. 1. 1. 1. 1. 1. 1.]\n",
      " [1. 1. 1. 1. 1. 1. 1.]\n",
      " [1. 1. 1. 1. 1. 1. 1.]\n",
      " [1. 1. 1. 1. 1. 1. 1.]\n",
      " [1. 1. 1. 1. 1. 1. 1.]\n",
      " [1. 1. 1. 1. 1. 1. 1.]]\n",
      "[[1 1 1 1 1 1 1]\n",
      " [1 1 1 1 1 1 1]\n",
      " [1 1 1 1 1 1 1]\n",
      " [1 1 1 1 1 1 1]\n",
      " [1 1 1 1 1 1 1]\n",
      " [1 1 1 1 1 1 1]]\n"
     ]
    }
   ],
   "source": [
    "# Array of 1's \n",
    "\n",
    "np.ones(4) # as there is no column specified it will generate the array of 1's for 4 elements\n",
    "\n",
    "# array([1., 1., 1., 1.])\n",
    "\n",
    "print(np.ones((6,7))) # we can generate the array of 1's using the specified rows and columns\n",
    "\n",
    "# [[1. 1. 1. 1. 1. 1. 1.]\n",
    "#  [1. 1. 1. 1. 1. 1. 1.]\n",
    "#  [1. 1. 1. 1. 1. 1. 1.]\n",
    "#  [1. 1. 1. 1. 1. 1. 1.]\n",
    "#  [1. 1. 1. 1. 1. 1. 1.]\n",
    "#  [1. 1. 1. 1. 1. 1. 1.]]\n",
    "\n",
    "\n",
    "print(np.ones((6,7),dtype=int)) # we can generate the array of 1's using the specified rows and columns and datatype as int as well\n",
    "\n",
    "# [[1 1 1 1 1 1 1]\n",
    "#  [1 1 1 1 1 1 1]\n",
    "#  [1 1 1 1 1 1 1]\n",
    "#  [1 1 1 1 1 1 1]\n",
    "#  [1 1 1 1 1 1 1]\n",
    "#  [1 1 1 1 1 1 1]]"
   ]
  },
  {
   "cell_type": "code",
   "execution_count": 10,
   "id": "e0c5bcd8",
   "metadata": {},
   "outputs": [
    {
     "name": "stdout",
     "output_type": "stream",
     "text": [
      "[[ 0.  1.  2.  3.]\n",
      " [ 4.  5.  6.  7.]\n",
      " [ 8.  9. 10. 11.]]\n"
     ]
    }
   ],
   "source": [
    "# empty array\n",
    "\n",
    "# Return a new array of given shape and type, without initializing entries.\n",
    "\n",
    "print(np.empty((3,4)))\n",
    "\n",
    "# [[ 0.  1.  2.  3.]\n",
    "#  [ 4.  5.  6.  7.]\n",
    "#  [ 8.  9. 10. 11.]]\n"
   ]
  },
  {
   "cell_type": "code",
   "execution_count": 11,
   "id": "ea476611",
   "metadata": {},
   "outputs": [
    {
     "name": "stdout",
     "output_type": "stream",
     "text": [
      "[[1. 0. 0.]\n",
      " [0. 1. 0.]\n",
      " [0. 0. 1.]]\n",
      "[[1 0 0 0]\n",
      " [0 1 0 0]\n",
      " [0 0 1 0]\n",
      " [0 0 0 1]]\n"
     ]
    }
   ],
   "source": [
    "# np.identity()\n",
    "\n",
    "# it is used to generate the identity matrix as a square matrix ( no.of rows == no.of columns)\n",
    "# Return the identity array.\n",
    "\n",
    "print(np.identity(3))#as we know for identity matrix the rows and columns is equal so we need to initialize one value, In this case it is 3\n",
    "\n",
    "# [[1. 0. 0.]\n",
    "#  [0. 1. 0.]\n",
    "#  [0. 0. 1.]]\n",
    "\n",
    "print(np.identity(4,dtype=int))\n",
    "\n",
    "# [[1 0 0 0]\n",
    "#  [0 1 0 0]\n",
    "#  [0 0 1 0]\n",
    "#  [0 0 0 1]]"
   ]
  },
  {
   "cell_type": "code",
   "execution_count": 12,
   "id": "1454551a",
   "metadata": {},
   "outputs": [
    {
     "name": "stdout",
     "output_type": "stream",
     "text": [
      "[[1. 0. 0. 0. 0.]\n",
      " [0. 1. 0. 0. 0.]\n",
      " [0. 0. 1. 0. 0.]\n",
      " [0. 0. 0. 1. 0.]\n",
      " [0. 0. 0. 0. 1.]]\n",
      "[[1 0 0 0 0]\n",
      " [0 1 0 0 0]\n",
      " [0 0 1 0 0]\n",
      " [0 0 0 1 0]\n",
      " [0 0 0 0 1]]\n",
      "[[1 0 0 0 0]\n",
      " [0 1 0 0 0]\n",
      " [0 0 1 0 0]]\n"
     ]
    }
   ],
   "source": [
    "# np.eye()\n",
    "\n",
    "# It is also used to generate the identity matrix but here we can specify the rows and columns\n",
    "# Return a 2-D array with ones on the diagonal and zeros elsewhere.\n",
    "\n",
    "print(np.eye(5)) # \n",
    "\n",
    "# [[1. 0. 0. 0. 0.]\n",
    "#  [0. 1. 0. 0. 0.]\n",
    "#  [0. 0. 1. 0. 0.]\n",
    "#  [0. 0. 0. 1. 0.]\n",
    "#  [0. 0. 0. 0. 1.]]\n",
    "\n",
    "print(np.eye(5,dtype=int))\n",
    "\n",
    "# [[1 0 0 0 0]\n",
    "#  [0 1 0 0 0]\n",
    "#  [0 0 1 0 0]\n",
    "#  [0 0 0 1 0]\n",
    "#  [0 0 0 0 1]]\n",
    "\n",
    "print(np.eye(3,5,dtype=int)) # Here we have generated the matrix with diagonal element as 1 and remaining elements as 0.\n",
    "\n",
    "# [[1 0 0 0 0]\n",
    "#  [0 1 0 0 0]\n",
    "#  [0 0 1 0 0]]"
   ]
  },
  {
   "cell_type": "code",
   "execution_count": 13,
   "id": "9a07428c",
   "metadata": {},
   "outputs": [
    {
     "name": "stdout",
     "output_type": "stream",
     "text": [
      "[[0.67227158 0.29898275 0.49456555]\n",
      " [0.1215553  0.82482372 0.38504152]]\n"
     ]
    }
   ],
   "source": [
    "# Generating the array with random values \n",
    "\n",
    "print(np.random.rand(2,3))\n",
    "\n",
    "# [[-0.91793979 -1.40786569  0.44719101]\n",
    "#  [ 0.06297761 -0.97749834 -0.50261376]]\n",
    "\n",
    "# Here for the generated data the mean can be anything and standard deviation can be anything "
   ]
  },
  {
   "cell_type": "code",
   "execution_count": 14,
   "id": "118925fc",
   "metadata": {},
   "outputs": [
    {
     "name": "stdout",
     "output_type": "stream",
     "text": [
      "[[-0.30071923  0.5295019   0.13617307]\n",
      " [ 1.80897819 -0.0282487   0.15272252]]\n"
     ]
    }
   ],
   "source": [
    "# IMPORTANT, we use this most in the statistic class to generate the data for standard normal distribution\n",
    "\n",
    "# Generating the array with random values which follows standard normal distribution (mean=0 standard deviation=1)\n",
    "\n",
    "print(np.random.randn(2,3)) # Here the generated data follows standard normal distribution with mean=0 standard deviation=1\n",
    "\n",
    "# [[1.20732879 1.63218093 0.04569626]\n",
    "#  [2.0863611  1.61733634 0.05816859]]"
   ]
  },
  {
   "cell_type": "code",
   "execution_count": 15,
   "id": "56e77bcb",
   "metadata": {},
   "outputs": [
    {
     "name": "stdout",
     "output_type": "stream",
     "text": [
      "[[4 2 4 4 1 4]\n",
      " [1 4 1 3 2 2]\n",
      " [2 3 1 4 4 2]\n",
      " [2 1 2 3 2 2]\n",
      " [1 3 2 2 4 1]]\n",
      "[[ 0  0  5  2  5  4]\n",
      " [-1  2 -1  5 -1  0]\n",
      " [-1  0  2 -1  3  5]\n",
      " [ 3  0 -1  5 -1  2]\n",
      " [ 5 -1  1  4  3  2]]\n"
     ]
    }
   ],
   "source": [
    "# we can generate the array with random integer numbers within specified limit and in given shape\n",
    "\n",
    "print(np.random.randint(1,5,(5,6))) # It will generate the array with shape (5,6) and the values in array in between 1 to 5(excluded)\n",
    "\n",
    "# [[4 2 2 2 1 3]\n",
    "#  [4 3 3 2 4 1]\n",
    "#  [4 3 1 3 1 3]\n",
    "#  [1 4 4 4 4 1]\n",
    "#  [2 1 2 4 4 4]]\n",
    "\n",
    "print(np.random.randint(-1,6,(5,6)))\n",
    "\n",
    "# [[ 3  0  2  2  0  1]\n",
    "#  [ 2  1  1  5  2  0]\n",
    "#  [ 4 -1  3  4  4  4]\n",
    "#  [ 4  0  1 -1  4  0]\n",
    "#  [ 5  1 -1  4  1 -1]]"
   ]
  },
  {
   "cell_type": "code",
   "execution_count": 16,
   "id": "de1fdcd4",
   "metadata": {},
   "outputs": [
    {
     "name": "stdout",
     "output_type": "stream",
     "text": [
      "[[5 7 1 2]\n",
      " [8 5 1 4]\n",
      " [1 8 3 6]]\n",
      "[7 8 8 6]\n"
     ]
    }
   ],
   "source": [
    "# filtering the content in the array\n",
    "\n",
    "arr1= np.random.randint(1,10,(3,4))\n",
    "\n",
    "print(arr1)\n",
    "\n",
    "# if you want to filter the values which has >5 then\n",
    "\n",
    "condition = arr1>5\n",
    "\n",
    "print(arr1[condition])\n"
   ]
  },
  {
   "cell_type": "code",
   "execution_count": 17,
   "id": "b023e932",
   "metadata": {},
   "outputs": [
    {
     "name": "stdout",
     "output_type": "stream",
     "text": [
      "[[ 11  22  33  44]\n",
      " [ 55  66  77  88]\n",
      " [ 99 111 222 333]]\n",
      "[11 22 33 44]\n",
      "[[11 22 33 44]\n",
      " [55 66 77 88]]\n",
      "[[11 22 33]\n",
      " [55 66 77]]\n",
      "[[11 33]]\n",
      "[11 22 33]\n"
     ]
    }
   ],
   "source": [
    "# Indexing operations on arrays\n",
    "\n",
    "arr1=np.array([[11,22,33,44],[55,66,77,88],[99,111,222,333]])\n",
    "print(arr1)\n",
    "\n",
    "# [[ 11  22  33  44]\n",
    "#  [ 55  66  77  88]\n",
    "#  [ 99 111 222 333]]\n",
    "\n",
    "# we can access the content of the array using indexing.\n",
    "\n",
    "print(arr1[0]) # [11 22 33 44]\n",
    "\n",
    "print(arr1[0:2]) # it will fetch the two rows\n",
    "\n",
    "# [[11 22 33 44]\n",
    "#  [55 66 77 88]]\n",
    "\n",
    "print(arr1[0:2,0:3]) # it will fetch the rows from 0th index to 1st index and columns from 0th index to 2nd index\n",
    "\n",
    "# [[11 22 33]\n",
    "#  [55 66 77]]\n",
    "\n",
    "print(arr1[0:2:2,0:3:2]) # here we have specified the step as 2\n",
    "\n",
    "# here the 0th row and 0th column,2nd column will be selected as per the step condition.\n",
    "\n",
    "# [[11 33]]\n",
    "\n",
    "print(arr1[0,[0,1,2]]) # accessing the 0th row and elements from 0th 1st 2nd elements from columns\n",
    "\n",
    "# [11 22 33]"
   ]
  },
  {
   "cell_type": "code",
   "execution_count": 18,
   "id": "3c4329e0",
   "metadata": {},
   "outputs": [
    {
     "name": "stdout",
     "output_type": "stream",
     "text": [
      "[[10 11 12 13 14 15 16 17 18 19]\n",
      " [20 21 22 23 24 25 26 27 28 29]\n",
      " [30 31 32 33 34 35 36 37 38 39]\n",
      " [40 41 42 43 44 45 46 47 48 49]]\n",
      "[[10 11 12]\n",
      " [20 21 22]]\n",
      "[[10 12 14]\n",
      " [30 32 34]]\n"
     ]
    }
   ],
   "source": [
    "#Indexing\n",
    "\n",
    "arr1= np.arange(10,50).reshape(4,-1)\n",
    "print(arr1)\n",
    "\n",
    "# [[10 11 12 13 14 15 16 17 18 19]\n",
    "#  [20 21 22 23 24 25 26 27 28 29]\n",
    "#  [30 31 32 33 34 35 36 37 38 39]\n",
    "#  [40 41 42 43 44 45 46 47 48 49]]\n",
    "\n",
    "print(arr1[0:2,0:3])\n",
    "\n",
    "# [[10 11 12]\n",
    "#  [20 21 22]]\n",
    "\n",
    "print(arr1[0:4:2,0:6:2])\n",
    "\n",
    "# [[10 12 14]\n",
    "#  [30 32 34]]"
   ]
  },
  {
   "cell_type": "code",
   "execution_count": 19,
   "id": "6f77d64a",
   "metadata": {},
   "outputs": [
    {
     "name": "stdout",
     "output_type": "stream",
     "text": [
      "[[10 11 12 13 14 15 16 17 18 19]\n",
      " [20 21 22 23 24 25 26 27 28 29]\n",
      " [30 31 32 33 34 35 36 37 38 39]\n",
      " [40 41 42 43 44 45 46 47 48 49]]\n",
      "[[24 25]\n",
      " [34 35]]\n"
     ]
    }
   ],
   "source": [
    "arr1= np.arange(10,50).reshape(4,-1)\n",
    "\n",
    "print(arr1)\n",
    "\n",
    "# [[10 11 12 13 14 15 16 17 18 19]\n",
    "#  [20 21 22 23 24 25 26 27 28 29]\n",
    "#  [30 31 32 33 34 35 36 37 38 39]\n",
    "#  [40 41 42 43 44 45 46 47 48 49]]\n",
    "\n",
    "# If you want to retrieve the below data.\n",
    "\n",
    "# [[24 25]\n",
    "#   [34 35]]\n",
    "\n",
    "print(arr1[1:3,[4,5]]) # extracting the row 1 to 2 and 4th and 5th column\n",
    "\n",
    "# array([[24, 25],\n",
    "#        [34, 35]])"
   ]
  },
  {
   "cell_type": "code",
   "execution_count": 20,
   "id": "e7b91df5",
   "metadata": {},
   "outputs": [
    {
     "name": "stdout",
     "output_type": "stream",
     "text": [
      "arr1:\n",
      " [[3 2 1]\n",
      " [2 2 3]\n",
      " [1 2 2]]\n",
      "arr2:\n",
      " [[3 1 3]\n",
      " [4 4 1]\n",
      " [4 4 2]]\n"
     ]
    }
   ],
   "source": [
    "# addition, subtraction, multiplication and division operation on arrays\n",
    "\n",
    "# all actions will be performed based on the index wise.\n",
    "\n",
    "arr1=np.random.randint(1,5,(3,3))\n",
    "\n",
    "print(\"arr1:\\n\",arr1)\n",
    "\n",
    "arr2=np.random.randint(1,5,(3,3))\n",
    "\n",
    "print(\"arr2:\\n\",arr2)"
   ]
  },
  {
   "cell_type": "code",
   "execution_count": 21,
   "id": "be63108e",
   "metadata": {},
   "outputs": [
    {
     "name": "stdout",
     "output_type": "stream",
     "text": [
      "[[6 3 4]\n",
      " [6 6 4]\n",
      " [5 6 4]]\n"
     ]
    }
   ],
   "source": [
    "# addition\n",
    "\n",
    "print(arr1+arr2)"
   ]
  },
  {
   "cell_type": "code",
   "execution_count": 22,
   "id": "7b6b9556",
   "metadata": {},
   "outputs": [
    {
     "name": "stdout",
     "output_type": "stream",
     "text": [
      "[[ 0  1 -2]\n",
      " [-2 -2  2]\n",
      " [-3 -2  0]]\n"
     ]
    }
   ],
   "source": [
    "# subtraction\n",
    "\n",
    "print(arr1-arr2)"
   ]
  },
  {
   "cell_type": "code",
   "execution_count": 23,
   "id": "6a467ab5",
   "metadata": {},
   "outputs": [
    {
     "name": "stdout",
     "output_type": "stream",
     "text": [
      "[[9 2 3]\n",
      " [8 8 3]\n",
      " [4 8 4]]\n",
      "matrix 1:\n",
      " [[3 2 1]\n",
      " [2 2 3]\n",
      " [1 2 2]]\n",
      "matrix 2:\n",
      " [[3 1 3]\n",
      " [4 4 1]\n",
      " [4 4 2]]\n",
      "matrix multiplication after converting arrays into matrices:\n",
      " [[21 15 13]\n",
      " [26 22 14]\n",
      " [19 17  9]]\n",
      "matrix multiplication using @ symbol and arr1 and arr2:\n",
      " [[21 15 13]\n",
      " [26 22 14]\n",
      " [19 17  9]]\n"
     ]
    }
   ],
   "source": [
    "#multiplication --> here multiplication is done based on indexes\n",
    "\n",
    "print(arr1*arr2) # --> * will give you index wise multiplication and @ will give you matrix multiplication (see below)\n",
    "\n",
    "# matrix multiplication is different than the index multiplication (as we know the theoritical explanation for matrix multiplication)\n",
    "\n",
    "matrix_arr1= np.matrix(arr1)\n",
    "matrix_arr2=np.matrix(arr2)\n",
    "\n",
    "print(\"matrix 1:\\n\", matrix_arr1)\n",
    "print(\"matrix 2:\\n\", matrix_arr2)\n",
    "\n",
    "print(\"matrix multiplication after converting arrays into matrices:\\n\",matrix_arr1*matrix_arr2)\n",
    "\n",
    "\n",
    "# performing matrix multiplication using arrays\n",
    "\n",
    "print(\"matrix multiplication using @ symbol and arr1 and arr2:\\n\",arr1@arr2) # used @ to perform matrix multiplication\n"
   ]
  },
  {
   "cell_type": "code",
   "execution_count": 24,
   "id": "6d873a73",
   "metadata": {},
   "outputs": [
    {
     "name": "stdout",
     "output_type": "stream",
     "text": [
      "[[1.         2.         0.33333333]\n",
      " [0.5        0.5        3.        ]\n",
      " [0.25       0.5        1.        ]]\n"
     ]
    }
   ],
   "source": [
    "# division\n",
    "print(arr1/arr2)"
   ]
  },
  {
   "cell_type": "code",
   "execution_count": 25,
   "id": "35026e0e",
   "metadata": {},
   "outputs": [
    {
     "name": "stdout",
     "output_type": "stream",
     "text": [
      "[[0 0 1]\n",
      " [2 2 0]\n",
      " [1 2 0]]\n"
     ]
    }
   ],
   "source": [
    "# modules\n",
    "\n",
    "print(arr1%arr2)"
   ]
  },
  {
   "cell_type": "code",
   "execution_count": 26,
   "id": "0e659355",
   "metadata": {},
   "outputs": [
    {
     "name": "stdout",
     "output_type": "stream",
     "text": [
      "[[inf inf inf]\n",
      " [inf inf inf]\n",
      " [inf inf inf]]\n"
     ]
    },
    {
     "name": "stderr",
     "output_type": "stream",
     "text": [
      "C:\\Users\\Nethajimahendra K\\AppData\\Local\\Temp\\ipykernel_23004\\560058255.py:1: RuntimeWarning: divide by zero encountered in divide\n",
      "  print(arr1/0)\n"
     ]
    }
   ],
   "source": [
    "print(arr1/0)"
   ]
  },
  {
   "cell_type": "code",
   "execution_count": 27,
   "id": "bf41b48a",
   "metadata": {},
   "outputs": [
    {
     "name": "stdout",
     "output_type": "stream",
     "text": [
      "[[0. 0. 0.]\n",
      " [0. 0. 0.]\n",
      " [0. 0. 0.]]\n"
     ]
    }
   ],
   "source": [
    "# Numpy broadcasting\n",
    "\n",
    "arr= np.zeros((3,3))\n",
    "\n",
    "print(arr)"
   ]
  },
  {
   "cell_type": "code",
   "execution_count": 28,
   "id": "3e4bfab8",
   "metadata": {},
   "outputs": [
    {
     "data": {
      "text/plain": [
       "array([[5., 5., 5.],\n",
       "       [5., 5., 5.],\n",
       "       [5., 5., 5.]])"
      ]
     },
     "execution_count": 28,
     "metadata": {},
     "output_type": "execute_result"
    }
   ],
   "source": [
    "arr+5 # here we broadcasting the value 5 "
   ]
  },
  {
   "cell_type": "code",
   "execution_count": 29,
   "id": "8d9ba850",
   "metadata": {},
   "outputs": [
    {
     "name": "stdout",
     "output_type": "stream",
     "text": [
      "arr1:\n",
      " [[0. 0. 0. 0.]\n",
      " [0. 0. 0. 0.]\n",
      " [0. 0. 0. 0.]] \n",
      " arr2:\n",
      " [[11 22 33 44]]\n",
      "broadcasting the arr1 and arr2:\n",
      " [[11. 22. 33. 44.]\n",
      " [11. 22. 33. 44.]\n",
      " [11. 22. 33. 44.]]\n"
     ]
    }
   ],
   "source": [
    "# lets create two arrays \n",
    "\n",
    "arr1= np.zeros((3,4)) # shape (3,4)\n",
    "\n",
    "arr2= np.array([[11,22,33,44]]) # shape (1,4)\n",
    "\n",
    "print(\"arr1:\\n\",arr1,\"\\n\",\"arr2:\\n\",arr2)\n",
    "\n",
    "print(\"broadcasting the arr1 and arr2:\\n\",arr1+arr2) # here the data in arr2 is added horizontally (row wise)\n",
    "\n",
    "# to perform this action the rows or columns must match according to the operation"
   ]
  },
  {
   "cell_type": "code",
   "execution_count": 30,
   "id": "45f03dda",
   "metadata": {},
   "outputs": [
    {
     "ename": "ValueError",
     "evalue": "operands could not be broadcast together with shapes (3,4) (1,3) ",
     "output_type": "error",
     "traceback": [
      "\u001b[1;31m---------------------------------------------------------------------------\u001b[0m",
      "\u001b[1;31mValueError\u001b[0m                                Traceback (most recent call last)",
      "Cell \u001b[1;32mIn[30], line 4\u001b[0m\n\u001b[0;32m      1\u001b[0m a\u001b[38;5;241m=\u001b[39mnp\u001b[38;5;241m.\u001b[39mzeros((\u001b[38;5;241m3\u001b[39m,\u001b[38;5;241m4\u001b[39m))\n\u001b[0;32m      2\u001b[0m b\u001b[38;5;241m=\u001b[39mnp\u001b[38;5;241m.\u001b[39marray([[\u001b[38;5;241m22\u001b[39m,\u001b[38;5;241m33\u001b[39m,\u001b[38;5;241m44\u001b[39m]])\n\u001b[1;32m----> 4\u001b[0m \u001b[38;5;28mprint\u001b[39m(\u001b[43ma\u001b[49m\u001b[38;5;241;43m+\u001b[39;49m\u001b[43mb\u001b[49m)\n",
      "\u001b[1;31mValueError\u001b[0m: operands could not be broadcast together with shapes (3,4) (1,3) "
     ]
    }
   ],
   "source": [
    "a=np.zeros((3,4))\n",
    "b=np.array([[22,33,44]])\n",
    "\n",
    "print(a+b)"
   ]
  },
  {
   "cell_type": "code",
   "execution_count": 31,
   "id": "143714bf",
   "metadata": {},
   "outputs": [
    {
     "name": "stdout",
     "output_type": "stream",
     "text": [
      "[[22. 22. 22. 22.]\n",
      " [33. 33. 33. 33.]\n",
      " [44. 44. 44. 44.]]\n",
      "[[22]\n",
      " [33]\n",
      " [44]] (3, 1)\n"
     ]
    }
   ],
   "source": [
    "print(a+b.T) # b.transpose() also works here, here the shape of array a is (3,4) and shape of b is (1,3)\n",
    "\n",
    "# to match the row of the array a we have transposed b, now the shape of b is (3,1) and a is (3,4)\n",
    "\n",
    "# print(b.transpose())\n",
    "print(b.T, b.T.shape)\n",
    "\n",
    "# print(a+b.transpose())"
   ]
  },
  {
   "cell_type": "code",
   "execution_count": 32,
   "id": "28644918",
   "metadata": {},
   "outputs": [
    {
     "name": "stdout",
     "output_type": "stream",
     "text": [
      "[[28 45 33 37]\n",
      " [28 27 13 20]\n",
      " [40 30  1 14]]\n",
      "square root:\n",
      " [[5.29150262 6.70820393 5.74456265 6.08276253]\n",
      " [5.29150262 5.19615242 3.60555128 4.47213595]\n",
      " [6.32455532 5.47722558 1.         3.74165739]]\n",
      "log10 operation:\n",
      " [[1.44715803 1.65321251 1.51851394 1.56820172]\n",
      " [1.44715803 1.43136376 1.11394335 1.30103   ]\n",
      " [1.60205999 1.47712125 0.         1.14612804]]\n",
      "exponential operation:\n",
      " [[1.44625706e+12 3.49342711e+19 2.14643580e+14 1.17191424e+16]\n",
      " [1.44625706e+12 5.32048241e+11 4.42413392e+05 4.85165195e+08]\n",
      " [2.35385267e+17 1.06864746e+13 2.71828183e+00 1.20260428e+06]]\n",
      "The mean of arr:\n",
      " 26.333333333333332\n",
      "The max element in an arr:\n",
      " 45\n",
      "The min element in an arr:\n",
      " 1\n"
     ]
    }
   ],
   "source": [
    "#square root\n",
    "\n",
    "arr= np.random.randint(1,50,(3,4))\n",
    "\n",
    "print(arr)\n",
    "\n",
    "print(\"square root:\\n\",np.sqrt(arr))\n",
    "\n",
    "# log10 operation\n",
    "\n",
    "print(\"log10 operation:\\n\",np.log10(arr))\n",
    "\n",
    "# exponential operation\n",
    "\n",
    "print(\"exponential operation:\\n\",np.exp(arr))\n",
    "\n",
    "# finding mean\n",
    "\n",
    "print(\"The mean of arr:\\n\",np.mean(arr))\n",
    "\n",
    "# finding max element in array\n",
    "\n",
    "print(\"The max element in an arr:\\n\", np.max(arr))\n",
    "\n",
    "# finding min element in array\n",
    "\n",
    "print(\"The min element in an arr:\\n\", np.min(arr))"
   ]
  }
 ],
 "metadata": {
  "kernelspec": {
   "display_name": "Python 3 (ipykernel)",
   "language": "python",
   "name": "python3"
  },
  "language_info": {
   "codemirror_mode": {
    "name": "ipython",
    "version": 3
   },
   "file_extension": ".py",
   "mimetype": "text/x-python",
   "name": "python",
   "nbconvert_exporter": "python",
   "pygments_lexer": "ipython3",
   "version": "3.10.9"
  }
 },
 "nbformat": 4,
 "nbformat_minor": 5
}
