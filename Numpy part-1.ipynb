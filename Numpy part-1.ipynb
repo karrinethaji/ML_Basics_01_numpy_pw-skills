{
 "cells": [
  {
   "cell_type": "markdown",
   "id": "99cbb00b",
   "metadata": {},
   "source": [
    "## Numpy"
   ]
  },
  {
   "cell_type": "markdown",
   "id": "37fdf2df",
   "metadata": {},
   "source": [
    "Earlier we have a lot of mathmatical functions inside the matlab but there is no such good mathmatical packages inside the python, so researchers has developed a best mathmatical package inside the python and named it as a \"Numpy\"\n",
    "\n",
    "NumPy is a Python library used for working with arrays. It also has functions for working in domain of linear algebra, fourier transform, and matrices. **NumPy was created in 2005 by Travis Oliphant.** It is an open source project and you can use it freely. **NumPy stands for Numerical Python.**"
   ]
  },
  {
   "cell_type": "code",
   "execution_count": 1,
   "id": "f1f71931",
   "metadata": {},
   "outputs": [],
   "source": [
    "#import numpy library\n",
    "import numpy as np # np is the aliasing name"
   ]
  },
  {
   "cell_type": "code",
   "execution_count": 2,
   "id": "60cd53ab",
   "metadata": {},
   "outputs": [],
   "source": [
    "#Converting list into an array\n",
    "l=[11,22,33,44,55] # This is the list\n",
    "\n",
    "arr=np.array(l) # we are doing type casting from list to array using numpy library"
   ]
  },
  {
   "cell_type": "code",
   "execution_count": 3,
   "id": "ec3e1558",
   "metadata": {},
   "outputs": [
    {
     "name": "stdout",
     "output_type": "stream",
     "text": [
      "[11 22 33 44 55]\n"
     ]
    }
   ],
   "source": [
    "print(arr)"
   ]
  },
  {
   "cell_type": "code",
   "execution_count": 4,
   "id": "e4dda0f4",
   "metadata": {},
   "outputs": [
    {
     "data": {
      "text/plain": [
       "numpy.ndarray"
      ]
     },
     "execution_count": 4,
     "metadata": {},
     "output_type": "execute_result"
    }
   ],
   "source": [
    "type(arr) # It will give the answer as \"numpy.ndarray\" , nd means 'n' dimension"
   ]
  },
  {
   "cell_type": "code",
   "execution_count": 5,
   "id": "e8e7e368",
   "metadata": {},
   "outputs": [
    {
     "name": "stdout",
     "output_type": "stream",
     "text": [
      "<class 'numpy.ndarray'>\n"
     ]
    }
   ],
   "source": [
    "# we can also use asarray function to typecast list into array\n",
    "\n",
    "arr1=np.asarray(l)\n",
    "print(type(arr1))"
   ]
  },
  {
   "cell_type": "markdown",
   "id": "e1dbea2a",
   "metadata": {},
   "source": [
    "**what is the mean of dimensions?**\n",
    "\n",
    "1 dimension --> It has only one row , \n",
    "'n' dimension --> It has multiple rows and columns\n",
    "\n",
    "dimension can be found using : array.ndim"
   ]
  },
  {
   "cell_type": "code",
   "execution_count": 6,
   "id": "01141b4f",
   "metadata": {},
   "outputs": [
    {
     "name": "stdout",
     "output_type": "stream",
     "text": [
      "Dimension of 1 D array: 1\n",
      "Length of 1 D array: 6\n",
      "[[11 22 33]\n",
      " [44 55 66]]\n",
      "Length of 2 D array: 2\n",
      "Dimension 2D array: 2\n",
      "Dimension 3D array: 3\n",
      "Length of 3D array: 1\n"
     ]
    }
   ],
   "source": [
    "# 1 dimension array ( 1D array)\n",
    "\n",
    "one_d_array=np.array([11,22,33,44,55,66])\n",
    "\n",
    "# Dimension of above array\n",
    "print(\"Dimension of 1 D array:\",one_d_array.ndim)\n",
    "\n",
    "# length of 1 D array\n",
    "\n",
    "print(\"Length of 1 D array:\",len(one_d_array)) # it will give the count of all the elements\n",
    "\n",
    "# 2 dimension array\n",
    "\n",
    "two_d_array= np.array([[11,22,33],[44,55,66]]) #2D array starts with 2 square brackets \"[[\" and end with \"]]\"\n",
    "print(two_d_array)\n",
    "print(\"Length of 2 D array:\",len(two_d_array)) # It will provide the count of number of rows\n",
    "\n",
    "print(\"Dimension 2D array:\",two_d_array.ndim)\n",
    "\n",
    "# 3 dimension array\n",
    "\n",
    "three_d_array=np.array([[[1,2,3],[4,5,6]]])\n",
    "\n",
    "print(\"Dimension 3D array:\",three_d_array.ndim)\n",
    "print(\"Length of 3D array:\",len(three_d_array))"
   ]
  },
  {
   "cell_type": "code",
   "execution_count": 7,
   "id": "1681e7bf",
   "metadata": {},
   "outputs": [
    {
     "name": "stdout",
     "output_type": "stream",
     "text": [
      "<class 'numpy.ndarray'>\n"
     ]
    }
   ],
   "source": [
    "print(type(two_d_array))"
   ]
  },
  {
   "cell_type": "code",
   "execution_count": 8,
   "id": "276ca658",
   "metadata": {},
   "outputs": [
    {
     "name": "stdout",
     "output_type": "stream",
     "text": [
      "2\n"
     ]
    }
   ],
   "source": [
    "# To know the dimension of the array\n",
    "\n",
    "print(two_d_array.ndim) "
   ]
  },
  {
   "cell_type": "code",
   "execution_count": 9,
   "id": "797fc13b",
   "metadata": {},
   "outputs": [
    {
     "name": "stdout",
     "output_type": "stream",
     "text": [
      "22\n"
     ]
    }
   ],
   "source": [
    "# For the above 2D array we have 2 rows and 3 columns, every row index and column index starts with '0'\n",
    "\n",
    "print(two_d_array[0][1])"
   ]
  },
  {
   "cell_type": "code",
   "execution_count": 10,
   "id": "8a3cca16",
   "metadata": {},
   "outputs": [
    {
     "name": "stdout",
     "output_type": "stream",
     "text": [
      "44\n"
     ]
    }
   ],
   "source": [
    "print(two_d_array[1][0])"
   ]
  },
  {
   "cell_type": "code",
   "execution_count": 11,
   "id": "225999c4",
   "metadata": {},
   "outputs": [
    {
     "name": "stdout",
     "output_type": "stream",
     "text": [
      "[[11 22 33]\n",
      " [44 55 66]]\n"
     ]
    }
   ],
   "source": [
    "print(two_d_array)"
   ]
  },
  {
   "cell_type": "code",
   "execution_count": 12,
   "id": "bafbe913",
   "metadata": {},
   "outputs": [
    {
     "name": "stdout",
     "output_type": "stream",
     "text": [
      "0 th row 0 th column element is: 11\n",
      "0 th row 1 th column element is: 22\n",
      "0 th row 2 th column element is: 33\n",
      "1 th row 0 th column element is: 44\n",
      "1 th row 1 th column element is: 55\n",
      "1 th row 2 th column element is: 66\n"
     ]
    }
   ],
   "source": [
    "#To access all the elements inside the array, we can use for loop.\n",
    "\n",
    "for i in range(0,len(two_d_array)): # len(two_d_array) is 2 \n",
    "    for j in range(0,len(two_d_array[i])):\n",
    "        print(i,\"th row\",j,\"th column element is:\",two_d_array[i][j])"
   ]
  },
  {
   "cell_type": "code",
   "execution_count": 13,
   "id": "f6656987",
   "metadata": {},
   "outputs": [
    {
     "name": "stdout",
     "output_type": "stream",
     "text": [
      "Size of array: 8\n",
      "Size of array: 4\n"
     ]
    }
   ],
   "source": [
    "# Number of elements in an array found using array.size\n",
    "\n",
    "arr= np.array([[11,22,33,44],[55,66,77,88]])\n",
    "\n",
    "print(\"Size of array:\",arr.size)\n",
    "\n",
    "one_d_arr=np.array([11,22,33,44])\n",
    "\n",
    "print(\"Size of array:\",one_d_arr.size)"
   ]
  },
  {
   "cell_type": "code",
   "execution_count": 14,
   "id": "c60b2e31",
   "metadata": {},
   "outputs": [
    {
     "name": "stdout",
     "output_type": "stream",
     "text": [
      "shape of arr: (2, 4)\n",
      "shape of one_d_arr: (4,)\n"
     ]
    }
   ],
   "source": [
    "# Finding the shape of array( number of rows and columns)\n",
    "\n",
    "arr= np.array([[11,22,33,44],[55,66,77,88]])\n",
    "\n",
    "print(\"shape of arr:\",arr.shape) # as it is 2 d array it will return the rows and columns\n",
    " \n",
    "one_d_arr=np.array([11,22,33,44])\n",
    "\n",
    "print(\"shape of one_d_arr:\",one_d_arr.shape) # as it is 1 d array it have only row no column"
   ]
  },
  {
   "cell_type": "code",
   "execution_count": 15,
   "id": "828d8206",
   "metadata": {},
   "outputs": [
    {
     "name": "stdout",
     "output_type": "stream",
     "text": [
      "datatype of arr: int32\n",
      "datatype of one_d_arr: float64\n"
     ]
    }
   ],
   "source": [
    "# finding datatypes\n",
    "\n",
    "arr= np.array([[11,22,33,44],[55,66,77,88]])\n",
    "\n",
    "print(\"datatype of arr:\",arr.dtype) # datatype of array used in the arr\n",
    " \n",
    "one_d_arr=np.array([11.0,22.0,33.0,44.0])\n",
    "print(\"datatype of one_d_arr:\",one_d_arr.dtype) # datatype of array used in the one_d_arr"
   ]
  },
  {
   "cell_type": "code",
   "execution_count": 16,
   "id": "c0a2fcc8",
   "metadata": {},
   "outputs": [
    {
     "name": "stdout",
     "output_type": "stream",
     "text": [
      "[ 0  1  2  3  4  5  6  7  8  9 10 11 12 13 14 15 16 17 18 19]\n",
      "[ 0  2  4  6  8 10 12 14 16 18]\n"
     ]
    }
   ],
   "source": [
    "# Generating the array with the specified range\n",
    "\n",
    "print(np.arange(0,20)) #[ 0  1  2  3  4  5  6  7  8  9 10 11 12 13 14 15 16 17 18 19]\n",
    "\n",
    "print(np.arange(0,20,2)) # [ 0  2  4  6  8 10 12 14 16 18]"
   ]
  },
  {
   "cell_type": "code",
   "execution_count": 17,
   "id": "8d48018d",
   "metadata": {},
   "outputs": [
    {
     "name": "stdout",
     "output_type": "stream",
     "text": [
      "Array: [1 2 3 4 5]\n",
      "dimension of array: 1\n",
      "matrix: [[1 2 3 4 5]]\n",
      "Dimension of matrix: 2\n"
     ]
    }
   ],
   "source": [
    "# Difference between arrays and matrices\n",
    "\n",
    "# The dimensions of array can be anything but the matrices dimension will be start from 2 only\n",
    "\n",
    "l=[1,2,3,4,5]\n",
    "\n",
    "# type cast the above list into array and find the dimension\n",
    "\n",
    "arr=np.array(l)\n",
    "print(\"Array:\",arr)\n",
    "\n",
    "print(\"dimension of array:\",arr.ndim)\n",
    "\n",
    "# typecast the above list l into matrice and find the dimension\n",
    "\n",
    "mat= np.matrix(l)\n",
    "\n",
    "print(\"matrix:\",mat)\n",
    "print(\"Dimension of matrix:\",mat.ndim) # It will give you the 2"
   ]
  },
  {
   "cell_type": "markdown",
   "id": "a71d372e",
   "metadata": {},
   "source": [
    "The numpy. asanyarray() function is used to convert a given input to an ndarray, **but pass ndarray subclasses through.** Input data, in any form that can be converted to an array. This includes scalars, lists, lists of tuples, tuples, tuples of tuples, tuples of lists, and ndarrays."
   ]
  },
  {
   "cell_type": "code",
   "execution_count": 18,
   "id": "683a794a",
   "metadata": {},
   "outputs": [
    {
     "name": "stdout",
     "output_type": "stream",
     "text": [
      "arr: [ 9  8  7  5 10] type of arr: <class 'numpy.ndarray'>\n",
      "arr1: 10 type of arr1 <class 'numpy.ndarray'>\n",
      "Type of mat: <class 'numpy.matrix'>\n",
      "type of arr3: <class 'numpy.matrix'>\n"
     ]
    }
   ],
   "source": [
    "## Example to understand asanarray() function\n",
    "\n",
    "l=[9,8,7,5,10]\n",
    "\n",
    "a=10\n",
    "\n",
    "## asanarray() function will convert any form of data into array\n",
    "\n",
    "arr= np.asanyarray(l)\n",
    "\n",
    "arr1=np.asanyarray(a)\n",
    "\n",
    "print(\"arr:\",arr,\"type of arr:\",type(arr))\n",
    "print(\"arr1:\",arr1,\"type of arr1\",type(arr1)) # As you can observe the type of arr1 is also changed to array\n",
    "\n",
    "# But if the input which we are passing to asanarray() is subclass of array module like \"matrix\" then asanarray() \n",
    "# function won't convert the matrix into array\n",
    "\n",
    "mat= np.matrix(l) # this is matrix\n",
    "\n",
    "print(\"Type of mat:\",type(mat)) # <class 'numpy.matrix'>\n",
    "\n",
    "# Let's use asanarray() function on above matrix\n",
    "\n",
    "arr3=np.asanyarray(mat)\n",
    "\n",
    "print(\"type of arr3:\",type(arr3)) # <class 'numpy.matrix'>\n",
    "\n",
    "## As you can observe in the output the type of the arr3 still remains as matrix as the matrix is subclass of arrays so\n",
    "# np.asanarray won't change it to an array"
   ]
  },
  {
   "cell_type": "code",
   "execution_count": 19,
   "id": "79cfe8b5",
   "metadata": {},
   "outputs": [
    {
     "name": "stdout",
     "output_type": "stream",
     "text": [
      "Content in arr: [1000   22   33   44   55   66]\n",
      "Content in a: [1000   22   33   44   55   66]\n",
      "\n",
      "shallow copy in the sense 'a' is the reference to the 'arr', both 'a' and 'arr' points to the same memory location, so  if we change the content in one array ('a' or 'arr') then automatically the content in another array will updated as we used shallow copy.\n"
     ]
    }
   ],
   "source": [
    "# Shallow copy\n",
    "\n",
    "arr= np.array([11,22,33,44,55,66])\n",
    "\n",
    "a=arr # Shallow copying the arr with a\n",
    "\n",
    "# Let's make a change in the arr \n",
    "\n",
    "arr[0]=1000 # As we used the shallow copy, if we change the content in arr or a the content in a or arr will also change.\n",
    "\n",
    "print(\"Content in arr:\",arr) # [1000   22   33   44   55   66]\n",
    "print(\"Content in a:\",a) # [1000   22   33   44   55   66] , the content in a also changed as we used shallow copy\n",
    "\n",
    "print()\n",
    "print(\"shallow copy in the sense 'a' is the reference to the 'arr', both 'a' and 'arr' points to the same memory location, so  if we change the content in one array ('a' or 'arr') then automatically the content in another array will updated as we used shallow copy.\")\n",
    "\n",
    "# shallow copy in the sense 'a' is the reference to the 'arr', both 'a' and 'arr' points to the same mempry location, so \n",
    "# if we chnage the content in one array ('a' or 'arr') then automatically the content in another array will updated as we used\n",
    "# shallow copy.\n",
    "\n",
    "# In this example we can say a is the reference to the 'arr'"
   ]
  },
  {
   "cell_type": "code",
   "execution_count": 20,
   "id": "3a9a247e",
   "metadata": {},
   "outputs": [
    {
     "name": "stdout",
     "output_type": "stream",
     "text": [
      "Content of arr: [999  24  25  26]\n",
      "Content of b: [23 24 25 26]\n"
     ]
    }
   ],
   "source": [
    "# Deep copy\n",
    "\n",
    "arr=np.array([23,24,25,26])\n",
    "\n",
    "b=np.copy(arr) # here we used deep copy that means both arr and b will point out to differemt memory locations (not to the same one)\n",
    "# b=arr.copy() # we can use this one as well.\n",
    "arr[0]=999\n",
    "\n",
    "print(\"Content of arr:\",arr) #[999  24  25  26]\n",
    "print(\"Content of b:\",b) # [23 24 25 26]\n",
    "\n",
    "# As we used the deep copy, the change in content of one object is not affected the content in another object. As the both objects \n",
    "#  point to the different memory location, the changes wont occur."
   ]
  },
  {
   "cell_type": "code",
   "execution_count": 21,
   "id": "1db67207",
   "metadata": {},
   "outputs": [
    {
     "data": {
      "text/plain": [
       "array([[0., 1., 2.],\n",
       "       [1., 2., 3.],\n",
       "       [2., 3., 4.]])"
      ]
     },
     "execution_count": 21,
     "metadata": {},
     "output_type": "execute_result"
    }
   ],
   "source": [
    "np.fromfunction(lambda i,j: i+j ,(3,3)) \n",
    "\n",
    "# fromfunction is used to generate the dataset using the function and provided shape\n",
    "\n",
    "# np.fromfunction(func, (row,column))\n",
    "\n",
    "# here we have provided 3 row and 3 column that means i starts with 0 to 2 and j starts with 0 to 2 \n",
    "#     0  1  2 \n",
    "#  0[ a  b  c]\n",
    "#  1[ d  e  f]\n",
    "#  2[ g  h  i]\n",
    "\n",
    "# [0+0  0+1  0+2]\n",
    "# [1+0  1+1  1+2]\n",
    "# [2+0  2+1  2+2]      i,e [ row index+ column index]"
   ]
  },
  {
   "cell_type": "code",
   "execution_count": 22,
   "id": "3a030716",
   "metadata": {},
   "outputs": [
    {
     "data": {
      "text/plain": [
       "array([[ True, False, False],\n",
       "       [False,  True, False],\n",
       "       [False, False,  True]])"
      ]
     },
     "execution_count": 22,
     "metadata": {},
     "output_type": "execute_result"
    }
   ],
   "source": [
    "np.fromfunction(lambda i,j: i==j ,(3,3)) \n",
    "\n",
    "# fromfunction is used to generate the array using the function and provided shape\n",
    "\n",
    "# np.fromfunction(func, (row,column))\n",
    "\n",
    "# here we have provided 3 row and 3 column that means i starts with 0 to 2 and j starts with 0 to 2 \n",
    "#     0  1  2 \n",
    "#  0[ a  b  c]\n",
    "#  1[ d  e  f]\n",
    "#  2[ g  h  i]\n",
    "\n",
    "# [0==0  0==1  0==2]\n",
    "# [1==0  1==1  1==2]\n",
    "# [2==0  2==1  2==2]      i,e [ row index==column index]"
   ]
  },
  {
   "cell_type": "code",
   "execution_count": 23,
   "id": "6bff6958",
   "metadata": {},
   "outputs": [
    {
     "data": {
      "text/plain": [
       "array([[0., 0., 0.],\n",
       "       [0., 1., 2.],\n",
       "       [0., 2., 4.]])"
      ]
     },
     "execution_count": 23,
     "metadata": {},
     "output_type": "execute_result"
    }
   ],
   "source": [
    "np.fromfunction(lambda i,j: i*j ,(3,3)) "
   ]
  },
  {
   "cell_type": "code",
   "execution_count": 24,
   "id": "915f1b1c",
   "metadata": {},
   "outputs": [
    {
     "name": "stdout",
     "output_type": "stream",
     "text": [
      "Data extracted using list: [1, 1, 4, 27, 256]\n",
      "Data extracted from generator using numpy library: [  1   1   4  27 256]\n"
     ]
    }
   ],
   "source": [
    "# As we know, we can generate the numbers using generator as below and we can extract those data using list:\n",
    "\n",
    "(i**i for i in range(0,5)) # It is an generator object \n",
    "\n",
    "# Using list to extract the data which was generated by generator\n",
    "\n",
    "data= list((i**i for i in range(0,5)))\n",
    "\n",
    "print(\"Data extracted using list:\",data)\n",
    "\n",
    "# How can we do the above operation using the numpy library\n",
    "\n",
    "iterable =(i**i for i in range(0,5))\n",
    "\n",
    "print(\"Data extracted from generator using numpy library:\",np.fromiter(iterable,int))\n",
    "# print(\"Data extracted from generator using numpy library as float data type:\",np.fromiter(iterable,float))\n",
    "\n",
    "# np.fromiter(iterable,int) --> you can place 'float' in place of int, it will show the data in that way"
   ]
  },
  {
   "cell_type": "code",
   "execution_count": 25,
   "id": "bd0ad437",
   "metadata": {},
   "outputs": [
    {
     "name": "stdout",
     "output_type": "stream",
     "text": [
      "[11. 22. 33. 44. 55.]\n",
      "[11. 22. 33. 44. 55.]\n"
     ]
    }
   ],
   "source": [
    "# Generating list from the string\n",
    "\n",
    "print(np.fromstring(\"11 22 33 44 55\", sep=\" \"))\n",
    "\n",
    "print(np.fromstring(\"11,22,33,44,55\",sep=\",\"))"
   ]
  }
 ],
 "metadata": {
  "kernelspec": {
   "display_name": "Python 3 (ipykernel)",
   "language": "python",
   "name": "python3"
  },
  "language_info": {
   "codemirror_mode": {
    "name": "ipython",
    "version": 3
   },
   "file_extension": ".py",
   "mimetype": "text/x-python",
   "name": "python",
   "nbconvert_exporter": "python",
   "pygments_lexer": "ipython3",
   "version": "3.10.9"
  }
 },
 "nbformat": 4,
 "nbformat_minor": 5
}
